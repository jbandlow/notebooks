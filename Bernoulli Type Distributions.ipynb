{
 "cells": [
  {
   "cell_type": "markdown",
   "metadata": {},
   "source": [
    "# The Bernoulli family of distributions"
   ]
  },
  {
   "cell_type": "markdown",
   "metadata": {},
   "source": [
    "## Binomial\n",
    "* A discrete distribution on the number of successes $y \\in \\mathbb{Z}_{\\ge 0}$ in $n$ Bernoulli trials, where each trial has probability $p$ of success.\n",
    "* Parameterized by $n$ (the number of trials), and $p$ (the probability of success of each trial).\n",
    "$$\n",
    "p(y) = \\binom{n}{y} p^y (1 - p)^{n - y}\n",
    "$$"
   ]
  },
  {
   "cell_type": "markdown",
   "metadata": {},
   "source": [
    "## Multinomial\n",
    "* A discrete-vector distribution on the counts $(y_1, \\ldots, y_k)$ of trials that fall in one of $k$ bins.\n",
    "* Parameterized by $n$ (the number of trials) and $p_1, \\dots, p_k$, the probability of each bin ($k$ is implicit).\n",
    "* Specializes to the binomial distribution in the case of exactly two bins.\n",
    "$$\n",
    "p((y_1, \\ldots, y_k)) = n! \\prod_{i=1}^{k} \\frac{p_i^{y_i}}{y_i!}\n",
    "$$"
   ]
  },
  {
   "cell_type": "markdown",
   "metadata": {},
   "source": [
    "## Geometric\n",
    "* A discrete distributions on the number of trials $y \\in \\mathbb{Z}_{\\ge 0}$ required for the first success.\n",
    "* Parameterized by $p$ (the probability of success of each trial).\n",
    "$$\n",
    "p(y) = p(1 - p)^{y - 1}\n",
    "$$"
   ]
  },
  {
   "cell_type": "markdown",
   "metadata": {},
   "source": [
    "## Negative Binomial\n",
    "* A discrete distribution on the number of trials $y \\in \\mathbb{Z}_{\\ge 0}$ required for $r$ successes.\n",
    "* Parameterized by $r$ (the number of required successes) and $p$.\n",
    "* The $r=1$ case is the geometric distribution.\n",
    "$$\n",
    "p(y)= \\binom{y - 1}{r - 1} p^{r} (1 - p)^{y - r}\n",
    "$$"
   ]
  },
  {
   "cell_type": "markdown",
   "metadata": {},
   "source": [
    "## Beta \n",
    "* A continuous distribution on the parameter $\\theta \\in [0, 1]$ of Bernoulli trials.\n",
    "* Parameterized by $\\alpha, \\beta > 0$. \n",
    "* The conjugate prior to the binomial distribution. Given new data $y$, the parameters update by\n",
    "$$\\begin{align}\n",
    "\\alpha &\\mapsto \\alpha + y \\\\\n",
    "\\beta &\\mapsto \\beta + n - y\n",
    "\\end{align}$$\n",
    "The distribution is given by\n",
    "$$\n",
    "p(\\theta) = \\frac{\\Gamma(\\alpha + \\beta)}{\\Gamma(\\alpha) \\Gamma(\\beta)} \\theta^{\\alpha - 1} (1 - \\theta)^{\\beta - 1}\n",
    "$$"
   ]
  },
  {
   "cell_type": "markdown",
   "metadata": {},
   "source": [
    "## Dirichlet\n",
    "* A continuous vector distribution on parameters $\\theta_1, \\dots, \\theta_k$ of multinomial trials.\n",
    "* Parameterized by $\\alpha_1, \\dots, \\alpha_k > 0$.\n",
    "* The conjugate prior to the multinomial distribution. The update function is analogous to the beta distribution.\n",
    "* Reduces to the beta distribution when $k = 2$.\n",
    "$$\n",
    "p(\\theta_1, \\dots, \\theta_k) = \\Gamma\\left(\\sum_{i=1}^k \\alpha_i \\right) \\prod_{i=1}^k \n",
    "                                    \\frac{\\theta_i^{\\alpha_i}}{\\Gamma(\\alpha_i)}\n",
    "$$"
   ]
  },
  {
   "cell_type": "markdown",
   "metadata": {},
   "source": [
    "# The Poisson family of distributions\n",
    "A **Poisson process** is one in which events occur exchangeably in all time intervals."
   ]
  },
  {
   "cell_type": "markdown",
   "metadata": {},
   "source": [
    "## Poisson\n",
    "\n",
    "* A discrete distribution on the count $y$ of events occurring in a unit interval. \n",
    "* Parameterized by $\\lambda > 0$, the rate at which events occur (in expectation).\n",
    "$$\n",
    "p(y) = \\frac{\\lambda^y e^{-\\lambda}}{y!}\n",
    "$$"
   ]
  },
  {
   "cell_type": "markdown",
   "metadata": {},
   "source": [
    "## Exponential\n",
    "* A continuous distribution on the time $t \\ge  0$ between Poisson events.\n",
    "* Parameterized by $\\lambda > 0$, the rate at which events occur (in expectation).\n",
    "$$\n",
    "p(t) = \\lambda e^{-\\lambda t}\n",
    "$$"
   ]
  },
  {
   "cell_type": "markdown",
   "metadata": {},
   "source": [
    "## Gamma\n",
    "* A continuous distribution on the time $t \\ge 0$ it takes for $\\alpha$ events to occur.\n",
    "* Parameterized by $\\lambda > 0$ (the rate of events) and $\\alpha \\in \\mathbb{Z}_{\\ge 0}$.\n",
    "* The conjugate prior to the Poisson distribution.\n",
    "$$\n",
    "p(t) = \\frac{\\lambda^\\alpha}{\\Gamma(\\alpha)}t^{\\alpha - 1} e^{-\\lambda t}\n",
    "$$"
   ]
  },
  {
   "cell_type": "code",
   "execution_count": null,
   "metadata": {},
   "outputs": [],
   "source": []
  }
 ],
 "metadata": {
  "kernelspec": {
   "display_name": "Python 3",
   "language": "python",
   "name": "python3"
  },
  "language_info": {
   "codemirror_mode": {
    "name": "ipython",
    "version": 3
   },
   "file_extension": ".py",
   "mimetype": "text/x-python",
   "name": "python",
   "nbconvert_exporter": "python",
   "pygments_lexer": "ipython3",
   "version": "3.6.5"
  }
 },
 "nbformat": 4,
 "nbformat_minor": 2
}
