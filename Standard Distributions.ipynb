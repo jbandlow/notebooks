{
 "cells": [
  {
   "cell_type": "markdown",
   "metadata": {},
   "source": [
    "# The Bernoulli family of distributions\n",
    "\n",
    "A **Bernoulli trial** is an event with two possible outcomes. Typically these are labeled as \"success\" and \"failure\", and the probability of success is often denoted by $p$."
   ]
  },
  {
   "cell_type": "markdown",
   "metadata": {},
   "source": [
    "## [Binomial](https://en.wikipedia.org/wiki/Binomial_distribution)\n",
    "$$\n",
    "\\newcommand{\\given}{\\;\\lvert\\;}\n",
    "p(y \\given n, p) = \\binom{n}{y} p^y (1 - p)^{n - y}\n",
    "$$\n",
    "* A discrete distribution on the number of successes $y \\in \\mathbb{Z}_{\\ge 0}$ in $n$ Bernoulli trials, where each trial has probability $p$ of success.\n",
    "* Parameterized by $n$ (the number of trials), and $p$ (the probability of success of each trial).\n",
    "* The conjugate prior on $p$ is Beta$(\\alpha, \\beta)$. Given new data of $y$ successes in $n$ trials, the parameters update by\n",
    "$$\\begin{align}\n",
    "\\alpha &\\mapsto \\alpha + y \\\\\n",
    "\\beta &\\mapsto \\beta + n - y\n",
    "\\end{align}$$\n",
    "* The prior predictive distribution is\n",
    "$$\n",
    "p(y \\given n, \\alpha, \\beta) = \\binom{n}{y} \\frac{\\prod_{i=0}^{y-1} (\\alpha + i) \\prod_{j=0}^{n-y-1} (\\beta + j)}\n",
    "   {\\prod_{k=0}^{n - 1} (\\alpha + \\beta + k) }\n",
    "$$\n",
    "which in the simple case of $n = 1, y = 1$ reduces to\n",
    "$$\n",
    "p( y=1 \\given n=1, \\alpha, \\beta) = \\frac{\\alpha}{\\alpha + \\beta}\n",
    "$$"
   ]
  },
  {
   "cell_type": "markdown",
   "metadata": {},
   "source": [
    "## [Geometric](https://en.wikipedia.org/wiki/Geometric_distribution)\n",
    "$$\n",
    "p(y \\given p) = p(1 - p)^{y - 1}\n",
    "$$\n",
    "* A discrete distribution on the number of trials $y \\in \\mathbb{Z}_{\\ge 0}$ required for the first success.\n",
    "* Parameterized by $p$ (the probability of success of each trial)."
   ]
  },
  {
   "cell_type": "markdown",
   "metadata": {},
   "source": [
    "## [Negative Binomial](https://en.wikipedia.org/wiki/Negative_binomial_distribution)\n",
    "$$\n",
    "p(y \\given p, r)= \\binom{y - 1}{r - 1} p^{r} (1 - p)^{y - r}\n",
    "$$\n",
    "* A discrete distribution on the number of trials $y \\in \\mathbb{Z}_{\\ge 0}$ required for $r$ successes.\n",
    "* Parameterized by $p$ and $r$ (the number of required successes), though note this is well defined for non-integer $r > 0$, by using $\\Gamma$ functions instead of the binomial coefficient.\n",
    "* The $r=1$ case is the geometric distribution."
   ]
  },
  {
   "cell_type": "markdown",
   "metadata": {},
   "source": [
    "## [Beta](https://en.wikipedia.org/wiki/Beta_distribution)\n",
    "$$\n",
    "p(p \\given \\alpha, \\beta) = \\frac{\\Gamma(\\alpha + \\beta)}{\\Gamma(\\alpha) \\Gamma(\\beta)} p^{\\alpha - 1} (1 - p)^{\\beta - 1}\n",
    "$$\n",
    "* A continuous distribution on the parameter $p \\in [0, 1]$ of Bernoulli trials.\n",
    "* Parameterized by $\\alpha, \\beta > 0$. "
   ]
  },
  {
   "cell_type": "markdown",
   "metadata": {},
   "source": [
    "## [Multinomial](https://en.wikipedia.org/wiki/Multinomial_distribution)\n",
    "$$\n",
    "p(y_1, \\ldots, y_k \\given p_1, \\dots, p_k) = \\left(\\sum_{i=1}^k y_i\\right)! \\prod_{i=1}^{k} \\frac{p_i^{y_i}}{y_i!}\n",
    "$$\n",
    "* Related to an extention of Bernoulli trials, where every trial has $k$ possible outcomes. \n",
    "* A discrete-vector distribution on the counts $(y_1, \\ldots, y_k)$ of trials that fall into the respective bins.\n",
    "* Parameterized by $p_1, \\dots, p_k$, the probability of each bin (these must sum to 1).\n",
    "* Specializes to the binomial distribution in the case of exactly two bins."
   ]
  },
  {
   "cell_type": "markdown",
   "metadata": {},
   "source": [
    "## [Dirichlet](https://en.wikipedia.org/wiki/Dirichlet_distribution)\n",
    "$$\n",
    "p(p_1, \\dots, p_k) = \\Gamma\\left(\\sum_{i=1}^k \\alpha_i \\right) \\prod_{i=1}^k \n",
    "                                    \\frac{p_i^{\\alpha_i}}{\\Gamma(\\alpha_i)}\n",
    "$$\n",
    "* A continuous vector distribution on parameters $p_1, \\dots, p_k$ of multinomial trials.\n",
    "* Parameterized by $\\alpha_1, \\dots, \\alpha_k > 0$.\n",
    "* The conjugate prior to the multinomial distribution. The update function is analogous to the beta distribution.\n",
    "* Reduces to the beta distribution when $k = 2$.\n"
   ]
  },
  {
   "cell_type": "markdown",
   "metadata": {},
   "source": [
    "# The Poisson family of distributions\n",
    "A **Poisson process** is one in which events occur exchangeably in all time intervals."
   ]
  },
  {
   "cell_type": "markdown",
   "metadata": {},
   "source": [
    "## [Poisson](https://en.wikipedia.org/wiki/Poisson_distribution)\n",
    "$$\n",
    "p(y \\given \\lambda) = \\frac{\\lambda^y e^{-\\lambda}}{y!}\n",
    "$$\n",
    "* A discrete distribution on the count $y$ of events occurring in a unit interval. \n",
    "* Parameterized by $\\lambda > 0$, the rate at which events occur (in expectation).\n",
    "* The conjugate prior on $\\lambda$ is Gamma$(\\alpha, \\beta)$. Given new data of $y$ events in $n$ unit intervals, the parameters update by\n",
    "$$\\begin{align}\n",
    "\\alpha &\\mapsto \\alpha + y \\\\\n",
    "\\beta &\\mapsto \\beta + n\n",
    "\\end{align}$$\n",
    "* The prior predictive distribution is\n",
    "$$\n",
    "p(y \\given \\alpha, \\beta) = \\textrm{Neg-Bin}(\\alpha, \\beta)\n",
    "$$"
   ]
  },
  {
   "cell_type": "markdown",
   "metadata": {},
   "source": [
    "## [Exponential](https://en.wikipedia.org/wiki/Exponential_distribution)\n",
    "$$\n",
    "p(t \\given \\lambda) = \\lambda e^{-\\lambda t}\n",
    "$$\n",
    "* A continuous distribution on the time $t \\ge  0$ between Poisson events.\n",
    "* Parameterized by $\\lambda > 0$, the rate at which events occur (in expectation).\n",
    "* The conjugate prior on $\\lambda$ is Gamma$(\\alpha, \\beta)$. Given new data of $n$ events in total time $t$, the parameters update by\n",
    "$$\\begin{align}\n",
    "\\alpha &\\mapsto \\alpha + n \\\\\n",
    "\\beta &\\mapsto \\beta + t\n",
    "\\end{align}$$"
   ]
  },
  {
   "cell_type": "markdown",
   "metadata": {},
   "source": [
    "## [Gamma](https://en.wikipedia.org/wiki/Gamma_distribution)\n",
    "$$\n",
    "p(t \\given \\alpha, \\beta) = \\frac{\\beta^\\alpha}{\\Gamma(\\alpha)}t^{\\alpha - 1} e^{-\\beta t}\n",
    "$$\n",
    "* A continuous distribution on the time $t \\ge 0$ it takes for $\\alpha$ events to occur.\n",
    "* Parameterized by $\\alpha > 0$ and $\\beta > 0$ (the rate of events, i.e., $\\lambda$).\n",
    "* Another common parameterization is by $k > 0$ ($= \\alpha$), and scale parameter $\\theta \\left(= \\frac{1}{\\beta}\\right)$.\n",
    "* Gamma(1, $\\lambda$) = Exponential($\\lambda$)\n",
    "* Gamma$\\left(\\frac{\\nu}{2}, \\frac{1}{2}\\right) = \\chi^2(\\nu)$\n",
    "* If $x \\sim $ Gamma$(\\alpha, \\beta)$, then $\\frac{1}{x} \\sim$ Inv-Gamma$(\\alpha, \\beta)$."
   ]
  },
  {
   "cell_type": "markdown",
   "metadata": {},
   "source": [
    "## [Inverse Gamma](https://en.wikipedia.org/wiki/Inverse-gamma_distribution)\n",
    "$$\n",
    "p(y \\given \\alpha, \\beta) = \\frac{\\beta^\\alpha}{\\Gamma(\\alpha)}y^{-\\alpha - 1} e^{-\\frac{\\beta}{y}}\n",
    "$$\n",
    "* If $x \\sim $ Gamma$(\\alpha, \\beta)$, then $\\frac{1}{x} \\sim$ Inv-Gamma$(\\alpha, \\beta)$.\n",
    "* Inv-Gamma$\\left(\\alpha, \\frac{1}{2}\\right)$ = Inv-$\\chi^2 (2 \\alpha)$"
   ]
  },
  {
   "cell_type": "code",
   "execution_count": null,
   "metadata": {
    "collapsed": true
   },
   "outputs": [],
   "source": []
  }
 ],
 "metadata": {
  "kernelspec": {
   "display_name": "Python 3",
   "language": "python",
   "name": "python3"
  },
  "language_info": {
   "codemirror_mode": {
    "name": "ipython",
    "version": 3
   },
   "file_extension": ".py",
   "mimetype": "text/x-python",
   "name": "python",
   "nbconvert_exporter": "python",
   "pygments_lexer": "ipython3",
   "version": "3.6.3"
  }
 },
 "nbformat": 4,
 "nbformat_minor": 2
}
