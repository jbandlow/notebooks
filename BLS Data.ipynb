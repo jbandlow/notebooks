{
 "cells": [
  {
   "cell_type": "code",
   "execution_count": 74,
   "metadata": {
    "collapsed": true
   },
   "outputs": [],
   "source": [
    "import pandas as pd\n",
    "import numpy as np\n",
    "%matplotlib inline\n",
    "import matplotlib as mpl\n",
    "mpl.rcParams['figure.figsize'] = (16, 8)"
   ]
  },
  {
   "cell_type": "code",
   "execution_count": 2,
   "metadata": {
    "collapsed": false
   },
   "outputs": [],
   "source": [
    "# http://download.bls.gov/pub/time.series/sm/sm.data.1.AllData\n",
    "all_data = pd.read_csv('/Users/jason/data/bls/sm.data.1.AllData.tsv', sep='\\t', low_memory=False, index_col=0)"
   ]
  },
  {
   "cell_type": "code",
   "execution_count": 15,
   "metadata": {
    "collapsed": false
   },
   "outputs": [],
   "source": [
    "state_codes = pd.read_csv('http://download.bls.gov/pub/time.series/sm/sm.state', \n",
    "                          names=('state_code', 'state_name'), usecols=(0,1),\n",
    "                         sep='\\t', header=0, index_col=0)\n",
    "state_codes = state_codes.to_dict()['state_name']"
   ]
  },
  {
   "cell_type": "code",
   "execution_count": 18,
   "metadata": {
    "collapsed": true
   },
   "outputs": [],
   "source": [
    "area_codes = pd.read_csv('http://download.bls.gov/pub/time.series/sm/sm.area', \n",
    "                          names=('area_code', 'area_name'), usecols=(0,1),\n",
    "                         sep='\\t', header=0, index_col=0).to_dict()['area_name']"
   ]
  },
  {
   "cell_type": "code",
   "execution_count": 19,
   "metadata": {
    "collapsed": true
   },
   "outputs": [],
   "source": [
    "industry_codes = pd.read_csv('http://download.bls.gov/pub/time.series/sm/sm.industry', \n",
    "                          names=('industry_code', 'industry_name'), usecols=(0,1),\n",
    "                         sep='\\t', header=0, index_col=0).to_dict()['industry_name']"
   ]
  },
  {
   "cell_type": "code",
   "execution_count": 20,
   "metadata": {
    "collapsed": true
   },
   "outputs": [],
   "source": [
    "data_type_codes = pd.read_csv('http://download.bls.gov/pub/time.series/sm/sm.data_type', \n",
    "                              names=('data_type_code', 'data_type_name'), usecols=(0,1),\n",
    "                              sep='\\t', header=0, index_col=0).to_dict()['data_type_name']"
   ]
  },
  {
   "cell_type": "code",
   "execution_count": 7,
   "metadata": {
    "collapsed": true
   },
   "outputs": [],
   "source": [
    "def series_id_to_adjustment(series_id):\n",
    "    code = series_id[2]\n",
    "    if code == 'S':\n",
    "        return True\n",
    "    elif code == 'U':\n",
    "        return False"
   ]
  },
  {
   "cell_type": "code",
   "execution_count": 16,
   "metadata": {
    "collapsed": true
   },
   "outputs": [],
   "source": [
    "def series_id_to_state(series_id):\n",
    "    return state_codes[int(series_id[3:5])]"
   ]
  },
  {
   "cell_type": "code",
   "execution_count": 21,
   "metadata": {
    "collapsed": false
   },
   "outputs": [],
   "source": [
    "def series_id_to_area(series_id):\n",
    "    return area_codes[int(series_id[5:10])]"
   ]
  },
  {
   "cell_type": "code",
   "execution_count": 22,
   "metadata": {
    "collapsed": false
   },
   "outputs": [],
   "source": [
    "def series_id_to_industry(series_id):\n",
    "    return industry_codes[int(series_id[10:18])]"
   ]
  },
  {
   "cell_type": "code",
   "execution_count": 23,
   "metadata": {
    "collapsed": true
   },
   "outputs": [],
   "source": [
    "def series_id_to_data_type(series_id):\n",
    "    return data_type_codes[int(series_id[18:20])]"
   ]
  },
  {
   "cell_type": "code",
   "execution_count": 17,
   "metadata": {
    "collapsed": false
   },
   "outputs": [],
   "source": [
    "all_data['state'] = all_data.index.map(series_id_to_state)"
   ]
  },
  {
   "cell_type": "code",
   "execution_count": 24,
   "metadata": {
    "collapsed": false
   },
   "outputs": [],
   "source": [
    "all_data['area'] = all_data.index.map(series_id_to_area)"
   ]
  },
  {
   "cell_type": "code",
   "execution_count": 25,
   "metadata": {
    "collapsed": false,
    "scrolled": true
   },
   "outputs": [],
   "source": [
    "all_data['industry'] = all_data.index.map(series_id_to_industry)"
   ]
  },
  {
   "cell_type": "code",
   "execution_count": 26,
   "metadata": {
    "collapsed": false
   },
   "outputs": [],
   "source": [
    "all_data['seasonally_adjusted'] = all_data.index.map(series_id_to_adjustment)"
   ]
  },
  {
   "cell_type": "code",
   "execution_count": 27,
   "metadata": {
    "collapsed": false
   },
   "outputs": [],
   "source": [
    "all_data['data_type'] = all_data.index.map(series_id_to_data_type)"
   ]
  },
  {
   "cell_type": "code",
   "execution_count": 28,
   "metadata": {
    "collapsed": false
   },
   "outputs": [
    {
     "data": {
      "text/html": [
       "<div>\n",
       "<table border=\"1\" class=\"dataframe\">\n",
       "  <thead>\n",
       "    <tr style=\"text-align: right;\">\n",
       "      <th></th>\n",
       "      <th>year</th>\n",
       "      <th>period</th>\n",
       "      <th>value</th>\n",
       "      <th>footnote_codes</th>\n",
       "      <th>state</th>\n",
       "      <th>area</th>\n",
       "      <th>industry</th>\n",
       "      <th>seasonally_adjusted</th>\n",
       "      <th>data_type</th>\n",
       "    </tr>\n",
       "    <tr>\n",
       "      <th>series_id</th>\n",
       "      <th></th>\n",
       "      <th></th>\n",
       "      <th></th>\n",
       "      <th></th>\n",
       "      <th></th>\n",
       "      <th></th>\n",
       "      <th></th>\n",
       "      <th></th>\n",
       "      <th></th>\n",
       "    </tr>\n",
       "  </thead>\n",
       "  <tbody>\n",
       "    <tr>\n",
       "      <th>SMS01000000000000001</th>\n",
       "      <td>1990</td>\n",
       "      <td>M01</td>\n",
       "      <td>1623.1</td>\n",
       "      <td></td>\n",
       "      <td>Alabama</td>\n",
       "      <td>Statewide</td>\n",
       "      <td>Total Nonfarm</td>\n",
       "      <td>True</td>\n",
       "      <td>All Employees, In Thousands</td>\n",
       "    </tr>\n",
       "    <tr>\n",
       "      <th>SMS01000000000000001</th>\n",
       "      <td>1990</td>\n",
       "      <td>M02</td>\n",
       "      <td>1621.3</td>\n",
       "      <td></td>\n",
       "      <td>Alabama</td>\n",
       "      <td>Statewide</td>\n",
       "      <td>Total Nonfarm</td>\n",
       "      <td>True</td>\n",
       "      <td>All Employees, In Thousands</td>\n",
       "    </tr>\n",
       "    <tr>\n",
       "      <th>SMS01000000000000001</th>\n",
       "      <td>1990</td>\n",
       "      <td>M03</td>\n",
       "      <td>1620.6</td>\n",
       "      <td></td>\n",
       "      <td>Alabama</td>\n",
       "      <td>Statewide</td>\n",
       "      <td>Total Nonfarm</td>\n",
       "      <td>True</td>\n",
       "      <td>All Employees, In Thousands</td>\n",
       "    </tr>\n",
       "    <tr>\n",
       "      <th>SMS01000000000000001</th>\n",
       "      <td>1990</td>\n",
       "      <td>M04</td>\n",
       "      <td>1634.0</td>\n",
       "      <td></td>\n",
       "      <td>Alabama</td>\n",
       "      <td>Statewide</td>\n",
       "      <td>Total Nonfarm</td>\n",
       "      <td>True</td>\n",
       "      <td>All Employees, In Thousands</td>\n",
       "    </tr>\n",
       "    <tr>\n",
       "      <th>SMS01000000000000001</th>\n",
       "      <td>1990</td>\n",
       "      <td>M05</td>\n",
       "      <td>1639.8</td>\n",
       "      <td></td>\n",
       "      <td>Alabama</td>\n",
       "      <td>Statewide</td>\n",
       "      <td>Total Nonfarm</td>\n",
       "      <td>True</td>\n",
       "      <td>All Employees, In Thousands</td>\n",
       "    </tr>\n",
       "  </tbody>\n",
       "</table>\n",
       "</div>"
      ],
      "text/plain": [
       "                                year period         value footnote_codes  \\\n",
       "series_id                                                                  \n",
       "SMS01000000000000001            1990    M01        1623.1                  \n",
       "SMS01000000000000001            1990    M02        1621.3                  \n",
       "SMS01000000000000001            1990    M03        1620.6                  \n",
       "SMS01000000000000001            1990    M04        1634.0                  \n",
       "SMS01000000000000001            1990    M05        1639.8                  \n",
       "\n",
       "                                  state       area       industry  \\\n",
       "series_id                                                           \n",
       "SMS01000000000000001            Alabama  Statewide  Total Nonfarm   \n",
       "SMS01000000000000001            Alabama  Statewide  Total Nonfarm   \n",
       "SMS01000000000000001            Alabama  Statewide  Total Nonfarm   \n",
       "SMS01000000000000001            Alabama  Statewide  Total Nonfarm   \n",
       "SMS01000000000000001            Alabama  Statewide  Total Nonfarm   \n",
       "\n",
       "                               seasonally_adjusted  \\\n",
       "series_id                                            \n",
       "SMS01000000000000001                          True   \n",
       "SMS01000000000000001                          True   \n",
       "SMS01000000000000001                          True   \n",
       "SMS01000000000000001                          True   \n",
       "SMS01000000000000001                          True   \n",
       "\n",
       "                                                  data_type  \n",
       "series_id                                                    \n",
       "SMS01000000000000001            All Employees, In Thousands  \n",
       "SMS01000000000000001            All Employees, In Thousands  \n",
       "SMS01000000000000001            All Employees, In Thousands  \n",
       "SMS01000000000000001            All Employees, In Thousands  \n",
       "SMS01000000000000001            All Employees, In Thousands  "
      ]
     },
     "execution_count": 28,
     "metadata": {},
     "output_type": "execute_result"
    }
   ],
   "source": [
    "all_data.head()"
   ]
  },
  {
   "cell_type": "code",
   "execution_count": 37,
   "metadata": {
    "collapsed": false
   },
   "outputs": [
    {
     "data": {
      "text/plain": [
       "SMU06000000000000001              998\n",
       "SMU06000004142310001              335\n",
       "SMU06000004322110001              335\n",
       "SMU06000004348830001              335\n",
       "SMU06000004244700001              335\n",
       "SMU06000007072259001              335\n",
       "SMU06000004244110001              335\n",
       "SMU06000005553230001              335\n",
       "SMU06000005051210001              335\n",
       "SMU06000004245110001              335\n",
       "SMU06000007071320001              335\n",
       "SMU06000009091911001              335\n",
       "SMU06000008081100001              335\n",
       "SMU06000006562330001              335\n",
       "SMU06000006056160001              335\n",
       "SMU06000005051900001              335\n",
       "SMU06000006562110001              335\n",
       "SMU06000007072000001              335\n",
       "SMU06000003133350001              335\n",
       "SMU06000004340008901              335\n",
       "SMU06000003133410001              335\n",
       "SMU06000003133640001              335\n",
       "SMU06000005552420001              335\n",
       "SMU06000005553000001              335\n",
       "SMU06000003133450001              335\n",
       "SMU06000006562130001              335\n",
       "SMU06000006054190001              335\n",
       "SMU06000005051211001              335\n",
       "SMU06000006056130001              335\n",
       "SMU06000003100000001              335\n",
       "                                 ... \n",
       "SMS06000001000000001              310\n",
       "SMS06000006561000001              310\n",
       "SMS06000000800000001              310\n",
       "SMS06000002000000001              310\n",
       "SMS06000004000000001              310\n",
       "SMS06000000700000001              310\n",
       "SMS06000004100000001              310\n",
       "SMS06000005500000001              310\n",
       "SMS06000009000000001              310\n",
       "SMS06000000600000001              310\n",
       "SMS06000003200000001              310\n",
       "SMS06000009093000001              310\n",
       "SMS06000008000000001              310\n",
       "SMS06000004300000001              310\n",
       "SMS06000007000000001              310\n",
       "SMS06000003100000001              310\n",
       "SMS06000007072000001              310\n",
       "SMS06000006056000001              310\n",
       "SMS06000005000000001              310\n",
       "SMS06000006500000001              310\n",
       "SMS06000005552000001              310\n",
       "SMS06000009091000001              310\n",
       "SMS06000000000000001              310\n",
       "SMS06000000500000001              310\n",
       "SMS06000005553000001              310\n",
       "SMS06000004200000001              310\n",
       "SMS06000006054000001              310\n",
       "SMS06000006055000001              286\n",
       "SMU06000006056120001              205\n",
       "SMU06000006562220001              192\n",
       "dtype: int64"
      ]
     },
     "execution_count": 37,
     "metadata": {},
     "output_type": "execute_result"
    }
   ],
   "source": [
    "all_data.query('state == \"California\" & area == \"Statewide\" & data_type == \"All Employees, In Thousands\"').index.value_counts()"
   ]
  },
  {
   "cell_type": "code",
   "execution_count": 38,
   "metadata": {
    "collapsed": true
   },
   "outputs": [],
   "source": [
    "test = all_data.head(10).copy()"
   ]
  },
  {
   "cell_type": "code",
   "execution_count": 40,
   "metadata": {
    "collapsed": false
   },
   "outputs": [
    {
     "data": {
      "text/plain": [
       "M10    538214\n",
       "M04    538211\n",
       "M09    538202\n",
       "M08    538202\n",
       "M07    538202\n",
       "M06    538202\n",
       "M05    538199\n",
       "M01    537753\n",
       "M03    537753\n",
       "M02    537753\n",
       "M12    514748\n",
       "M11    514748\n",
       "M13    454108\n",
       "dtype: int64"
      ]
     },
     "execution_count": 40,
     "metadata": {},
     "output_type": "execute_result"
    }
   ],
   "source": [
    "all_data.period.value_counts()"
   ]
  },
  {
   "cell_type": "code",
   "execution_count": 41,
   "metadata": {
    "collapsed": true
   },
   "outputs": [],
   "source": [
    "def period_to_period_type(p):\n",
    "    if p == 'M13':\n",
    "        return 'yearly'\n",
    "    return 'monthly'"
   ]
  },
  {
   "cell_type": "code",
   "execution_count": 42,
   "metadata": {
    "collapsed": true
   },
   "outputs": [],
   "source": [
    "all_data['period_type'] = all_data.period.apply(period_to_period_type)"
   ]
  },
  {
   "cell_type": "code",
   "execution_count": 55,
   "metadata": {
    "collapsed": true
   },
   "outputs": [],
   "source": [
    "def row_to_date(row):\n",
    "    if row.period_type == 'yearly':\n",
    "        return str(row.year)\n",
    "    return '%s-%s' % (row.year, row.period[1:])"
   ]
  },
  {
   "cell_type": "code",
   "execution_count": 59,
   "metadata": {
    "collapsed": false
   },
   "outputs": [],
   "source": [
    "#test['period_type'] = test.period.apply(period_to_period_type)\n",
    "all_data['date'] = all_data.apply(row_to_date, axis=1)"
   ]
  },
  {
   "cell_type": "code",
   "execution_count": 67,
   "metadata": {
    "collapsed": false
   },
   "outputs": [],
   "source": [
    "all_data.index = all_data.index.map(lambda x: x.strip())"
   ]
  },
  {
   "cell_type": "code",
   "execution_count": 72,
   "metadata": {
    "collapsed": false
   },
   "outputs": [],
   "source": [
    "df = all_data.ix['SMU06000000000000001'].query('period_type == \"monthly\"')[['date', 'value']]"
   ]
  },
  {
   "cell_type": "code",
   "execution_count": 73,
   "metadata": {
    "collapsed": false
   },
   "outputs": [
    {
     "data": {
      "text/html": [
       "<div>\n",
       "<table border=\"1\" class=\"dataframe\">\n",
       "  <thead>\n",
       "    <tr style=\"text-align: right;\">\n",
       "      <th></th>\n",
       "      <th>date</th>\n",
       "      <th>value</th>\n",
       "    </tr>\n",
       "  </thead>\n",
       "  <tbody>\n",
       "    <tr>\n",
       "      <th>SMU06000000000000001</th>\n",
       "      <td>1939-01</td>\n",
       "      <td>1700.7</td>\n",
       "    </tr>\n",
       "    <tr>\n",
       "      <th>SMU06000000000000001</th>\n",
       "      <td>1939-02</td>\n",
       "      <td>1709.4</td>\n",
       "    </tr>\n",
       "    <tr>\n",
       "      <th>SMU06000000000000001</th>\n",
       "      <td>1939-03</td>\n",
       "      <td>1731.2</td>\n",
       "    </tr>\n",
       "    <tr>\n",
       "      <th>SMU06000000000000001</th>\n",
       "      <td>1939-04</td>\n",
       "      <td>1772.8</td>\n",
       "    </tr>\n",
       "    <tr>\n",
       "      <th>SMU06000000000000001</th>\n",
       "      <td>1939-05</td>\n",
       "      <td>1797.9</td>\n",
       "    </tr>\n",
       "  </tbody>\n",
       "</table>\n",
       "</div>"
      ],
      "text/plain": [
       "                         date         value\n",
       "SMU06000000000000001  1939-01        1700.7\n",
       "SMU06000000000000001  1939-02        1709.4\n",
       "SMU06000000000000001  1939-03        1731.2\n",
       "SMU06000000000000001  1939-04        1772.8\n",
       "SMU06000000000000001  1939-05        1797.9"
      ]
     },
     "execution_count": 73,
     "metadata": {},
     "output_type": "execute_result"
    }
   ],
   "source": [
    "df.head(5)"
   ]
  },
  {
   "cell_type": "code",
   "execution_count": 83,
   "metadata": {
    "collapsed": false
   },
   "outputs": [],
   "source": [
    "df.set_index('date', inplace=True)\n",
    "df = pd.DataFrame(df.value.astype(float))"
   ]
  },
  {
   "cell_type": "code",
   "execution_count": 84,
   "metadata": {
    "collapsed": false
   },
   "outputs": [
    {
     "data": {
      "text/plain": [
       "<matplotlib.axes._subplots.AxesSubplot at 0x147884790>"
      ]
     },
     "execution_count": 84,
     "metadata": {},
     "output_type": "execute_result"
    },
    {
     "data": {
      "image/png": "[encoded data removed]",
      "text/plain": [
       "<matplotlib.figure.Figure at 0x147898d10>"
      ]
     },
     "metadata": {},
     "output_type": "display_data"
    }
   ],
   "source": [
    "df.plot()"
   ]
  },
  {
   "cell_type": "code",
   "execution_count": 86,
   "metadata": {
    "collapsed": false
   },
   "outputs": [
    {
     "data": {
      "text/html": [
       "<div>\n",
       "<table border=\"1\" class=\"dataframe\">\n",
       "  <thead>\n",
       "    <tr style=\"text-align: right;\">\n",
       "      <th></th>\n",
       "      <th>year</th>\n",
       "      <th>period</th>\n",
       "      <th>value</th>\n",
       "      <th>footnote_codes</th>\n",
       "      <th>state</th>\n",
       "      <th>area</th>\n",
       "      <th>industry</th>\n",
       "      <th>seasonally_adjusted</th>\n",
       "      <th>data_type</th>\n",
       "      <th>period_type</th>\n",
       "      <th>date</th>\n",
       "    </tr>\n",
       "  </thead>\n",
       "  <tbody>\n",
       "    <tr>\n",
       "      <th>SMU06000000000000001</th>\n",
       "      <td>1939</td>\n",
       "      <td>M01</td>\n",
       "      <td>1700.7</td>\n",
       "      <td></td>\n",
       "      <td>California</td>\n",
       "      <td>Statewide</td>\n",
       "      <td>Total Nonfarm</td>\n",
       "      <td>False</td>\n",
       "      <td>All Employees, In Thousands</td>\n",
       "      <td>monthly</td>\n",
       "      <td>1939-01</td>\n",
       "    </tr>\n",
       "  </tbody>\n",
       "</table>\n",
       "</div>"
      ],
      "text/plain": [
       "                      year period         value footnote_codes       state  \\\n",
       "SMU06000000000000001  1939    M01        1700.7                 California   \n",
       "\n",
       "                           area       industry seasonally_adjusted  \\\n",
       "SMU06000000000000001  Statewide  Total Nonfarm               False   \n",
       "\n",
       "                                        data_type period_type     date  \n",
       "SMU06000000000000001  All Employees, In Thousands     monthly  1939-01  "
      ]
     },
     "execution_count": 86,
     "metadata": {},
     "output_type": "execute_result"
    }
   ],
   "source": [
    "all_data.ix['SMU06000000000000001'].head(1)"
   ]
  },
  {
   "cell_type": "code",
   "execution_count": 91,
   "metadata": {
    "collapsed": false
   },
   "outputs": [
    {
     "data": {
      "text/plain": [
       "<matplotlib.axes._subplots.AxesSubplot at 0x1484754d0>"
      ]
     },
     "execution_count": 91,
     "metadata": {},
     "output_type": "execute_result"
    },
    {
     "data": {
      "image/png": "[encoded data removed]",
      "text/plain": [
       "<matplotlib.figure.Figure at 0x1484f2850>"
      ]
     },
     "metadata": {},
     "output_type": "display_data"
    }
   ],
   "source": [
    "df['2000':].plot()"
   ]
  },
  {
   "cell_type": "code",
   "execution_count": 104,
   "metadata": {
    "collapsed": false
   },
   "outputs": [],
   "source": [
    "df = all_data.query('industry == \"Restaurants\" & area == \"Los Angeles-Long Beach-Anaheim, CA\" '\n",
    "                    '& period_type == \"monthly\"')[['date', 'value']].copy()"
   ]
  },
  {
   "cell_type": "code",
   "execution_count": 105,
   "metadata": {
    "collapsed": false
   },
   "outputs": [],
   "source": [
    "df.set_index('date', inplace=True)\n",
    "df = pd.DataFrame(df.value.astype(float))"
   ]
  },
  {
   "cell_type": "code",
   "execution_count": 109,
   "metadata": {
    "collapsed": false
   },
   "outputs": [
    {
     "data": {
      "text/html": [
       "<div>\n",
       "<table border=\"1\" class=\"dataframe\">\n",
       "  <thead>\n",
       "    <tr style=\"text-align: right;\">\n",
       "      <th></th>\n",
       "      <th>value</th>\n",
       "    </tr>\n",
       "    <tr>\n",
       "      <th>date</th>\n",
       "      <th></th>\n",
       "    </tr>\n",
       "  </thead>\n",
       "  <tbody>\n",
       "    <tr>\n",
       "      <th>2015-06</th>\n",
       "      <td>460.3</td>\n",
       "    </tr>\n",
       "    <tr>\n",
       "      <th>2015-07</th>\n",
       "      <td>461.4</td>\n",
       "    </tr>\n",
       "    <tr>\n",
       "      <th>2015-08</th>\n",
       "      <td>461.8</td>\n",
       "    </tr>\n",
       "    <tr>\n",
       "      <th>2015-09</th>\n",
       "      <td>462.7</td>\n",
       "    </tr>\n",
       "    <tr>\n",
       "      <th>2015-10</th>\n",
       "      <td>463.9</td>\n",
       "    </tr>\n",
       "  </tbody>\n",
       "</table>\n",
       "</div>"
      ],
      "text/plain": [
       "         value\n",
       "date          \n",
       "2015-06  460.3\n",
       "2015-07  461.4\n",
       "2015-08  461.8\n",
       "2015-09  462.7\n",
       "2015-10  463.9"
      ]
     },
     "execution_count": 109,
     "metadata": {},
     "output_type": "execute_result"
    }
   ],
   "source": [
    "df.tail()"
   ]
  },
  {
   "cell_type": "code",
   "execution_count": 115,
   "metadata": {
    "collapsed": false
   },
   "outputs": [
    {
     "data": {
      "text/plain": [
       "<matplotlib.axes._subplots.AxesSubplot at 0x1600b1bd0>"
      ]
     },
     "execution_count": 115,
     "metadata": {},
     "output_type": "execute_result"
    },
    {
     "data": {
      "image/png": "[encoded data removed]",
      "text/plain": [
       "<matplotlib.figure.Figure at 0x1600b7a50>"
      ]
     },
     "metadata": {},
     "output_type": "display_data"
    }
   ],
   "source": [
    "(df - df.shift(1))['2014':].plot(grid=True)"
   ]
  },
  {
   "cell_type": "code",
   "execution_count": null,
   "metadata": {
    "collapsed": true
   },
   "outputs": [],
   "source": []
  }
 ],
 "metadata": {
  "kernelspec": {
   "display_name": "Python 2",
   "language": "python",
   "name": "python2"
  },
  "language_info": {
   "codemirror_mode": {
    "name": "ipython",
    "version": 2
   },
   "file_extension": ".py",
   "mimetype": "text/x-python",
   "name": "python",
   "nbconvert_exporter": "python",
   "pygments_lexer": "ipython2",
   "version": "2.7.9"
  }
 },
 "nbformat": 4,
 "nbformat_minor": 0
}
