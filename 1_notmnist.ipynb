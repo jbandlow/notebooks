{
 "cells": [
  {
   "cell_type": "markdown",
   "metadata": {
    "colab_type": "text",
    "id": "5hIbr52I7Z7U"
   },
   "source": [
    "Deep Learning\n",
    "=============\n",
    "\n",
    "Assignment 1\n",
    "------------\n",
    "\n",
    "The objective of this assignment is to learn about simple data curation practices, and familiarize you with some of the data we'll be reusing later.\n",
    "\n",
    "This notebook uses the [notMNIST](http://yaroslavvb.blogspot.com/2011/09/notmnist-dataset.html) dataset to be used with python experiments. This dataset is designed to look like the classic [MNIST](http://yann.lecun.com/exdb/mnist/) dataset, while looking a little more like real data: it's a harder task, and the data is a lot less 'clean' than MNIST."
   ]
  },
  {
   "cell_type": "code",
   "execution_count": 1,
   "metadata": {
    "cellView": "both",
    "colab": {
     "autoexec": {
      "startup": false,
      "wait_interval": 0
     }
    },
    "colab_type": "code",
    "collapsed": true,
    "id": "apJbCsBHl-2A"
   },
   "outputs": [],
   "source": [
    "# These are all the modules we'll be using later. Make sure you can import them\n",
    "# before proceeding further.\n",
    "import matplotlib.pyplot as plt\n",
    "import numpy as np\n",
    "import os\n",
    "import tarfile\n",
    "import urllib\n",
    "from IPython.display import display, Image\n",
    "from scipy import ndimage\n",
    "from sklearn.linear_model import LogisticRegression\n",
    "import cPickle as pickle"
   ]
  },
  {
   "cell_type": "markdown",
   "metadata": {
    "colab_type": "text",
    "id": "jNWGtZaXn-5j"
   },
   "source": [
    "First, we'll download the dataset to our local machine. The data consists of characters rendered in a variety of fonts on a 28x28 image. The labels are limited to 'A' through 'J' (10 classes). The training set has about 500k and the testset 19000 labelled examples. Given these sizes, it should be possible to train models quickly on any machine."
   ]
  },
  {
   "cell_type": "markdown",
   "metadata": {},
   "source": [
    "### Note: If the data has already been downloaded and extracted, skip the next two cells"
   ]
  },
  {
   "cell_type": "code",
   "execution_count": 2,
   "metadata": {
    "cellView": "both",
    "colab": {
     "autoexec": {
      "startup": false,
      "wait_interval": 0
     },
     "output_extras": [
      {
       "item_id": 1
      }
     ]
    },
    "colab_type": "code",
    "executionInfo": {
     "elapsed": 186058,
     "status": "ok",
     "timestamp": 1444485672507,
     "user": {
      "color": "#1FA15D",
      "displayName": "Vincent Vanhoucke",
      "isAnonymous": false,
      "isMe": true,
      "permissionId": "05076109866853157986",
      "photoUrl": "//lh6.googleusercontent.com/-cCJa7dTDcgQ/AAAAAAAAAAI/AAAAAAAACgw/r2EZ_8oYer4/s50-c-k-no/photo.jpg",
      "sessionId": "2a0a5e044bb03b66",
      "userId": "102167687554210253930"
     },
     "user_tz": 420
    },
    "id": "EYRJ4ICW6-da",
    "outputId": "0d0f85df-155f-4a89-8e7e-ee32df36ec8d"
   },
   "outputs": [
    {
     "name": "stdout",
     "output_type": "stream",
     "text": [
      "Found and verified notMNIST_large.tar.gz\n",
      "Found and verified notMNIST_small.tar.gz\n"
     ]
    }
   ],
   "source": [
    "url = 'http://yaroslavvb.com/upload/notMNIST/'\n",
    "\n",
    "def maybe_download(filename, expected_bytes):\n",
    "  \"\"\"Download a file if not present, and make sure it's the right size.\"\"\"\n",
    "  if not os.path.exists(filename):\n",
    "    filename, _ = urllib.urlretrieve(url + filename, filename)\n",
    "  statinfo = os.stat(filename)\n",
    "  if statinfo.st_size == expected_bytes:\n",
    "    print 'Found and verified', filename\n",
    "  else:\n",
    "    raise Exception(\n",
    "      'Failed to verify' + filename + '. Can you get to it with a browser?')\n",
    "  return filename\n",
    "\n",
    "train_filename = maybe_download('notMNIST_large.tar.gz', 247336696)\n",
    "test_filename = maybe_download('notMNIST_small.tar.gz', 8458043)"
   ]
  },
  {
   "cell_type": "markdown",
   "metadata": {
    "colab_type": "text",
    "id": "cC3p0oEyF8QT"
   },
   "source": [
    "Extract the dataset from the compressed .tar.gz file.\n",
    "This should give you a set of directories, labelled A through J."
   ]
  },
  {
   "cell_type": "code",
   "execution_count": 3,
   "metadata": {
    "cellView": "both",
    "colab": {
     "autoexec": {
      "startup": false,
      "wait_interval": 0
     },
     "output_extras": [
      {
       "item_id": 1
      }
     ]
    },
    "colab_type": "code",
    "executionInfo": {
     "elapsed": 186055,
     "status": "ok",
     "timestamp": 1444485672525,
     "user": {
      "color": "#1FA15D",
      "displayName": "Vincent Vanhoucke",
      "isAnonymous": false,
      "isMe": true,
      "permissionId": "05076109866853157986",
      "photoUrl": "//lh6.googleusercontent.com/-cCJa7dTDcgQ/AAAAAAAAAAI/AAAAAAAACgw/r2EZ_8oYer4/s50-c-k-no/photo.jpg",
      "sessionId": "2a0a5e044bb03b66",
      "userId": "102167687554210253930"
     },
     "user_tz": 420
    },
    "id": "H8CBE-WZ8nmj",
    "outputId": "ef6c790c-2513-4b09-962e-27c79390c762"
   },
   "outputs": [
    {
     "name": "stdout",
     "output_type": "stream",
     "text": [
      "['notMNIST_large/A', 'notMNIST_large/B', 'notMNIST_large/C', 'notMNIST_large/D', 'notMNIST_large/E', 'notMNIST_large/F', 'notMNIST_large/G', 'notMNIST_large/H', 'notMNIST_large/I', 'notMNIST_large/J']\n",
      "['notMNIST_small/A', 'notMNIST_small/B', 'notMNIST_small/C', 'notMNIST_small/D', 'notMNIST_small/E', 'notMNIST_small/F', 'notMNIST_small/G', 'notMNIST_small/H', 'notMNIST_small/I', 'notMNIST_small/J']\n"
     ]
    }
   ],
   "source": [
    "num_classes = 10\n",
    "\n",
    "def extract(filename):\n",
    "  tar = tarfile.open(filename)\n",
    "  tar.extractall()\n",
    "  tar.close()\n",
    "  root = os.path.splitext(os.path.splitext(filename)[0])[0]  # remove .tar.gz\n",
    "  data_folders = [os.path.join(root, d) for d in sorted(os.listdir(root))]\n",
    "  if len(data_folders) != num_classes:\n",
    "    raise Exception(\n",
    "      'Expected %d folders, one per class. Found %d instead.' % (\n",
    "        num_classes, len(data_folders)))\n",
    "  print data_folders\n",
    "  return data_folders\n",
    "  \n",
    "train_folders = extract(train_filename)\n",
    "test_folders = extract(test_filename)"
   ]
  },
  {
   "cell_type": "markdown",
   "metadata": {},
   "source": [
    "### If the data has already been downloaded and extracted, continue from here"
   ]
  },
  {
   "cell_type": "code",
   "execution_count": 9,
   "metadata": {},
   "outputs": [
    {
     "name": "stdout",
     "output_type": "stream",
     "text": [
      "['notMNIST_large/A', 'notMNIST_large/B', 'notMNIST_large/C', 'notMNIST_large/D', 'notMNIST_large/E', 'notMNIST_large/F', 'notMNIST_large/G', 'notMNIST_large/H', 'notMNIST_large/I', 'notMNIST_large/J']\n",
      "['notMNIST_small/A', 'notMNIST_small/B', 'notMNIST_small/C', 'notMNIST_small/D', 'notMNIST_small/E', 'notMNIST_small/F', 'notMNIST_small/G', 'notMNIST_small/H', 'notMNIST_small/I', 'notMNIST_small/J']\n"
     ]
    }
   ],
   "source": [
    "train_folders = ['notMNIST_large/{}'.format(_) for _ in ['A', 'B', 'C', 'D', 'E', 'F', 'G', 'H', 'I', 'J']]\n",
    "test_folders = ['notMNIST_small/{}'.format(_) for _ in ['A', 'B', 'C', 'D', 'E', 'F', 'G', 'H', 'I', 'J']]\n",
    "print train_folders\n",
    "print test_folders"
   ]
  },
  {
   "cell_type": "markdown",
   "metadata": {
    "colab_type": "text",
    "id": "4riXK3IoHgx6"
   },
   "source": [
    "---\n",
    "Problem 1\n",
    "---------\n",
    "\n",
    "Let's take a peek at some of the data to make sure it looks sensible. Each exemplar should be an image of a character A through J rendered in a different font. Display a sample of the images that we just downloaded. Hint: you can use the package IPython.display.\n",
    "\n",
    "---"
   ]
  },
  {
   "cell_type": "code",
   "execution_count": 11,
   "metadata": {},
   "outputs": [
    {
     "data": {
      "image/png": "[encoded data removed]",
      "text/plain": [
       "<IPython.core.display.Image object>"
      ]
     },
     "execution_count": 11,
     "metadata": {},
     "output_type": "execute_result"
    }
   ],
   "source": [
    "# Only last will show\n",
    "from IPython.display import Image\n",
    "Image('notMNIST_large/A/UGxheWJpbGxCVC1SZWd1bGFyLm90Zg==.png')\n",
    "Image('notMNIST_large/A/IzQ0IEZvbnQudHRm.png')\n",
    "Image('notMNIST_large/J/emxhZGRpLnR0Zg==.png')"
   ]
  },
  {
   "cell_type": "markdown",
   "metadata": {
    "colab_type": "text",
    "id": "PBdkjESPK8tw"
   },
   "source": [
    "Now let's load the data in a more manageable format.\n",
    "\n",
    "We'll convert the entire dataset into a 3D array (image index, x, y) of floating point values, normalized to have approximately zero mean and standard deviation ~0.5 to make training easier down the road. The labels will be stored into a separate array of integers 0 through 9.\n",
    "\n",
    "A few images might not be readable, we'll just skip them."
   ]
  },
  {
   "cell_type": "code",
   "execution_count": 8,
   "metadata": {
    "cellView": "both",
    "colab": {
     "autoexec": {
      "startup": false,
      "wait_interval": 0
     },
     "output_extras": [
      {
       "item_id": 30
      }
     ]
    },
    "colab_type": "code",
    "executionInfo": {
     "elapsed": 399874,
     "status": "ok",
     "timestamp": 1444485886378,
     "user": {
      "color": "#1FA15D",
      "displayName": "Vincent Vanhoucke",
      "isAnonymous": false,
      "isMe": true,
      "permissionId": "05076109866853157986",
      "photoUrl": "//lh6.googleusercontent.com/-cCJa7dTDcgQ/AAAAAAAAAAI/AAAAAAAACgw/r2EZ_8oYer4/s50-c-k-no/photo.jpg",
      "sessionId": "2a0a5e044bb03b66",
      "userId": "102167687554210253930"
     },
     "user_tz": 420
    },
    "id": "h7q0XhG3MJdf",
    "outputId": "92c391bb-86ff-431d-9ada-315568a19e59"
   },
   "outputs": [
    {
     "name": "stdout",
     "output_type": "stream",
     "text": [
      "notMNIST_large/A\n",
      "Could not read: notMNIST_large/A/RnJlaWdodERpc3BCb29rSXRhbGljLnR0Zg==.png : cannot identify image file 'notMNIST_large/A/RnJlaWdodERpc3BCb29rSXRhbGljLnR0Zg==.png' - it's ok, skipping.\n",
      "Could not read: notMNIST_large/A/SG90IE11c3RhcmQgQlROIFBvc3Rlci50dGY=.png : cannot identify image file 'notMNIST_large/A/SG90IE11c3RhcmQgQlROIFBvc3Rlci50dGY=.png' - it's ok, skipping.\n"
     ]
    },
    {
     "ename": "KeyboardInterrupt",
     "evalue": "",
     "output_type": "error",
     "traceback": [
      "\u001b[0;31m\u001b[0m",
      "\u001b[0;31mKeyboardInterrupt\u001b[0mTraceback (most recent call last)",
      "\u001b[0;32m<ipython-input-8-259c85a727dc>\u001b[0m in \u001b[0;36m<module>\u001b[0;34m()\u001b[0m\n\u001b[1;32m     37\u001b[0m   \u001b[0;32mprint\u001b[0m \u001b[0;34m'Labels:'\u001b[0m\u001b[0;34m,\u001b[0m \u001b[0mlabels\u001b[0m\u001b[0;34m.\u001b[0m\u001b[0mshape\u001b[0m\u001b[0;34m\u001b[0m\u001b[0m\n\u001b[1;32m     38\u001b[0m   \u001b[0;32mreturn\u001b[0m \u001b[0mdataset\u001b[0m\u001b[0;34m,\u001b[0m \u001b[0mlabels\u001b[0m\u001b[0;34m\u001b[0m\u001b[0m\n\u001b[0;32m---> 39\u001b[0;31m \u001b[0mtrain_dataset\u001b[0m\u001b[0;34m,\u001b[0m \u001b[0mtrain_labels\u001b[0m \u001b[0;34m=\u001b[0m \u001b[0mload\u001b[0m\u001b[0;34m(\u001b[0m\u001b[0mtrain_folders\u001b[0m\u001b[0;34m,\u001b[0m \u001b[0;36m450000\u001b[0m\u001b[0;34m,\u001b[0m \u001b[0;36m550000\u001b[0m\u001b[0;34m)\u001b[0m\u001b[0;34m\u001b[0m\u001b[0m\n\u001b[0m\u001b[1;32m     40\u001b[0m \u001b[0mtest_dataset\u001b[0m\u001b[0;34m,\u001b[0m \u001b[0mtest_labels\u001b[0m \u001b[0;34m=\u001b[0m \u001b[0mload\u001b[0m\u001b[0;34m(\u001b[0m\u001b[0mtest_folders\u001b[0m\u001b[0;34m,\u001b[0m \u001b[0;36m18000\u001b[0m\u001b[0;34m,\u001b[0m \u001b[0;36m20000\u001b[0m\u001b[0;34m)\u001b[0m\u001b[0;34m\u001b[0m\u001b[0m\n",
      "\u001b[0;32m<ipython-input-8-259c85a727dc>\u001b[0m in \u001b[0;36mload\u001b[0;34m(data_folders, min_num_images, max_num_images)\u001b[0m\n\u001b[1;32m     16\u001b[0m       \u001b[0mimage_file\u001b[0m \u001b[0;34m=\u001b[0m \u001b[0mos\u001b[0m\u001b[0;34m.\u001b[0m\u001b[0mpath\u001b[0m\u001b[0;34m.\u001b[0m\u001b[0mjoin\u001b[0m\u001b[0;34m(\u001b[0m\u001b[0mfolder\u001b[0m\u001b[0;34m,\u001b[0m \u001b[0mimage\u001b[0m\u001b[0;34m)\u001b[0m\u001b[0;34m\u001b[0m\u001b[0m\n\u001b[1;32m     17\u001b[0m       \u001b[0;32mtry\u001b[0m\u001b[0;34m:\u001b[0m\u001b[0;34m\u001b[0m\u001b[0m\n\u001b[0;32m---> 18\u001b[0;31m         image_data = (ndimage.imread(image_file).astype(float) -\n\u001b[0m\u001b[1;32m     19\u001b[0m                       pixel_depth / 2) / pixel_depth\n\u001b[1;32m     20\u001b[0m         \u001b[0;32mif\u001b[0m \u001b[0mimage_data\u001b[0m\u001b[0;34m.\u001b[0m\u001b[0mshape\u001b[0m \u001b[0;34m!=\u001b[0m \u001b[0;34m(\u001b[0m\u001b[0mimage_size\u001b[0m\u001b[0;34m,\u001b[0m \u001b[0mimage_size\u001b[0m\u001b[0;34m)\u001b[0m\u001b[0;34m:\u001b[0m\u001b[0;34m\u001b[0m\u001b[0m\n",
      "\u001b[0;32m/opt/conda/envs/python2/lib/python2.7/site-packages/scipy/ndimage/io.pyc\u001b[0m in \u001b[0;36mimread\u001b[0;34m(fname, flatten, mode)\u001b[0m\n\u001b[1;32m     22\u001b[0m \u001b[0;32mdef\u001b[0m \u001b[0mimread\u001b[0m\u001b[0;34m(\u001b[0m\u001b[0mfname\u001b[0m\u001b[0;34m,\u001b[0m \u001b[0mflatten\u001b[0m\u001b[0;34m=\u001b[0m\u001b[0mFalse\u001b[0m\u001b[0;34m,\u001b[0m \u001b[0mmode\u001b[0m\u001b[0;34m=\u001b[0m\u001b[0mNone\u001b[0m\u001b[0;34m)\u001b[0m\u001b[0;34m:\u001b[0m\u001b[0;34m\u001b[0m\u001b[0m\n\u001b[1;32m     23\u001b[0m     \u001b[0;32mif\u001b[0m \u001b[0m_have_pil\u001b[0m\u001b[0;34m:\u001b[0m\u001b[0;34m\u001b[0m\u001b[0m\n\u001b[0;32m---> 24\u001b[0;31m         \u001b[0;32mreturn\u001b[0m \u001b[0m_imread\u001b[0m\u001b[0;34m(\u001b[0m\u001b[0mfname\u001b[0m\u001b[0;34m,\u001b[0m \u001b[0mflatten\u001b[0m\u001b[0;34m,\u001b[0m \u001b[0mmode\u001b[0m\u001b[0;34m)\u001b[0m\u001b[0;34m\u001b[0m\u001b[0m\n\u001b[0m\u001b[1;32m     25\u001b[0m     raise ImportError(\"Could not import the Python Imaging Library (PIL)\"\n\u001b[1;32m     26\u001b[0m                       \u001b[0;34m\" required to load image files.  Please refer to\"\u001b[0m\u001b[0;34m\u001b[0m\u001b[0m\n",
      "\u001b[0;32m/opt/conda/envs/python2/lib/python2.7/site-packages/scipy/misc/pilutil.pyc\u001b[0m in \u001b[0;36mimread\u001b[0;34m(name, flatten, mode)\u001b[0m\n\u001b[1;32m    154\u001b[0m     \"\"\"\n\u001b[1;32m    155\u001b[0m \u001b[0;34m\u001b[0m\u001b[0m\n\u001b[0;32m--> 156\u001b[0;31m     \u001b[0mim\u001b[0m \u001b[0;34m=\u001b[0m \u001b[0mImage\u001b[0m\u001b[0;34m.\u001b[0m\u001b[0mopen\u001b[0m\u001b[0;34m(\u001b[0m\u001b[0mname\u001b[0m\u001b[0;34m)\u001b[0m\u001b[0;34m\u001b[0m\u001b[0m\n\u001b[0m\u001b[1;32m    157\u001b[0m     \u001b[0;32mreturn\u001b[0m \u001b[0mfromimage\u001b[0m\u001b[0;34m(\u001b[0m\u001b[0mim\u001b[0m\u001b[0;34m,\u001b[0m \u001b[0mflatten\u001b[0m\u001b[0;34m=\u001b[0m\u001b[0mflatten\u001b[0m\u001b[0;34m,\u001b[0m \u001b[0mmode\u001b[0m\u001b[0;34m=\u001b[0m\u001b[0mmode\u001b[0m\u001b[0;34m)\u001b[0m\u001b[0;34m\u001b[0m\u001b[0m\n\u001b[1;32m    158\u001b[0m \u001b[0;34m\u001b[0m\u001b[0m\n",
      "\u001b[0;32m/opt/conda/envs/python2/lib/python2.7/site-packages/PIL/Image.pyc\u001b[0m in \u001b[0;36mopen\u001b[0;34m(fp, mode)\u001b[0m\n\u001b[1;32m   2417\u001b[0m         \u001b[0mexclusive_fp\u001b[0m \u001b[0;34m=\u001b[0m \u001b[0mTrue\u001b[0m\u001b[0;34m\u001b[0m\u001b[0m\n\u001b[1;32m   2418\u001b[0m \u001b[0;34m\u001b[0m\u001b[0m\n\u001b[0;32m-> 2419\u001b[0;31m     \u001b[0mprefix\u001b[0m \u001b[0;34m=\u001b[0m \u001b[0mfp\u001b[0m\u001b[0;34m.\u001b[0m\u001b[0mread\u001b[0m\u001b[0;34m(\u001b[0m\u001b[0;36m16\u001b[0m\u001b[0;34m)\u001b[0m\u001b[0;34m\u001b[0m\u001b[0m\n\u001b[0m\u001b[1;32m   2420\u001b[0m \u001b[0;34m\u001b[0m\u001b[0m\n\u001b[1;32m   2421\u001b[0m     \u001b[0mpreinit\u001b[0m\u001b[0;34m(\u001b[0m\u001b[0;34m)\u001b[0m\u001b[0;34m\u001b[0m\u001b[0m\n",
      "\u001b[0;31mKeyboardInterrupt\u001b[0m: "
     ]
    }
   ],
   "source": [
    "image_size = 28  # Pixel width and height.\n",
    "pixel_depth = 255.0  # Number of levels per pixel.\n",
    "\n",
    "def load(data_folders, min_num_images, max_num_images):\n",
    "  dataset = np.ndarray(\n",
    "    shape=(max_num_images, image_size, image_size), dtype=np.float32)\n",
    "  labels = np.ndarray(shape=(max_num_images), dtype=np.int32)\n",
    "  label_index = 0\n",
    "  image_index = 0\n",
    "  for folder in data_folders:\n",
    "    print folder\n",
    "    for image in os.listdir(folder):\n",
    "      if image_index >= max_num_images:\n",
    "        raise Exception('More images than expected: %d >= %d' % (\n",
    "          num_images, max_num_images))\n",
    "      image_file = os.path.join(folder, image)\n",
    "      try:\n",
    "        image_data = (ndimage.imread(image_file).astype(float) -\n",
    "                      pixel_depth / 2) / pixel_depth\n",
    "        if image_data.shape != (image_size, image_size):\n",
    "          raise Exception('Unexpected image shape: %s' % str(image_data.shape))\n",
    "        dataset[image_index, :, :] = image_data\n",
    "        labels[image_index] = label_index\n",
    "        image_index += 1\n",
    "      except IOError as e:\n",
    "        print 'Could not read:', image_file, ':', e, '- it\\'s ok, skipping.'\n",
    "    label_index += 1\n",
    "  num_images = image_index\n",
    "  dataset = dataset[0:num_images, :, :]\n",
    "  labels = labels[0:num_images]\n",
    "  if num_images < min_num_images:\n",
    "    raise Exception('Many fewer images than expected: %d < %d' % (\n",
    "        num_images, min_num_images))\n",
    "  print 'Full dataset tensor:', dataset.shape\n",
    "  print 'Mean:', np.mean(dataset)\n",
    "  print 'Standard deviation:', np.std(dataset)\n",
    "  print 'Labels:', labels.shape\n",
    "  return dataset, labels\n",
    "train_dataset, train_labels = load(train_folders, 450000, 550000)\n",
    "test_dataset, test_labels = load(test_folders, 18000, 20000)"
   ]
  },
  {
   "cell_type": "markdown",
   "metadata": {
    "colab_type": "text",
    "id": "vUdbskYE2d87"
   },
   "source": [
    "---\n",
    "Problem 2\n",
    "---------\n",
    "\n",
    "Let's verify that the data still looks good. Displaying a sample of the labels and images from the ndarray. Hint: you can use matplotlib.pyplot.\n",
    "\n",
    "---"
   ]
  },
  {
   "cell_type": "code",
   "execution_count": 24,
   "metadata": {},
   "outputs": [
    {
     "data": {
      "text/plain": [
       "(<matplotlib.image.AxesImage at 0x114ba60d0>, 9)"
      ]
     },
     "execution_count": 24,
     "metadata": {},
     "output_type": "execute_result"
    },
    {
     "data": {
      "image/png": "[encoded data removed]",
      "text/plain": [
       "<matplotlib.figure.Figure at 0x114afbb10>"
      ]
     },
     "metadata": {},
     "output_type": "display_data"
    }
   ],
   "source": [
    "import matplotlib.pyplot as plt\n",
    "%matplotlib inline\n",
    "n = 500000\n",
    "plt.imshow(train_dataset[n]), train_labels[n]"
   ]
  },
  {
   "cell_type": "code",
   "execution_count": 13,
   "metadata": {},
   "outputs": [
    {
     "data": {
      "text/plain": [
       "(0, array([[-0.5       , -0.5       , -0.5       , -0.5       , -0.48431373,\n",
       "         -0.5       , -0.19019608,  0.46862745,  0.49215686,  0.5       ,\n",
       "          0.5       ,  0.5       ,  0.5       ,  0.5       ,  0.5       ,\n",
       "          0.5       ,  0.5       ,  0.5       ,  0.5       ,  0.49215686,\n",
       "          0.46862745, -0.19019608, -0.5       , -0.48431373, -0.5       ,\n",
       "         -0.5       , -0.5       , -0.5       ],\n",
       "        [-0.5       , -0.5       , -0.5       , -0.48823529, -0.5       ,\n",
       "         -0.30392158,  0.43333334,  0.5       ,  0.49215686,  0.5       ,\n",
       "          0.5       ,  0.5       ,  0.5       ,  0.5       ,  0.5       ,\n",
       "          0.5       ,  0.5       ,  0.5       ,  0.5       ,  0.49215686,\n",
       "          0.5       ,  0.43333334, -0.30392158, -0.5       , -0.48823529,\n",
       "         -0.5       , -0.5       , -0.5       ],\n",
       "        [-0.5       , -0.5       , -0.48823529, -0.5       , -0.37843138,\n",
       "          0.38627452,  0.5       ,  0.49215686,  0.5       ,  0.5       ,\n",
       "          0.5       ,  0.5       ,  0.5       ,  0.5       ,  0.5       ,\n",
       "          0.5       ,  0.5       ,  0.5       ,  0.5       ,  0.5       ,\n",
       "          0.49215686,  0.5       ,  0.38627452, -0.37843138, -0.5       ,\n",
       "         -0.48823529, -0.5       , -0.5       ],\n",
       "        [-0.5       , -0.49215686, -0.49607843, -0.43725491,  0.31176472,\n",
       "          0.5       ,  0.48823529,  0.5       ,  0.5       ,  0.5       ,\n",
       "          0.5       ,  0.5       ,  0.5       ,  0.5       ,  0.5       ,\n",
       "          0.5       ,  0.5       ,  0.5       ,  0.5       ,  0.5       ,\n",
       "          0.5       ,  0.48823529,  0.5       ,  0.31176472, -0.43725491,\n",
       "         -0.49607843, -0.49215686, -0.5       ],\n",
       "        [-0.49607843, -0.49215686, -0.48431373,  0.2254902 ,  0.5       ,\n",
       "          0.48431373,  0.5       ,  0.5       ,  0.5       ,  0.5       ,\n",
       "          0.5       ,  0.5       ,  0.5       ,  0.5       ,  0.5       ,\n",
       "          0.5       ,  0.5       ,  0.5       ,  0.5       ,  0.5       ,\n",
       "          0.5       ,  0.5       ,  0.48431373,  0.5       ,  0.2254902 ,\n",
       "         -0.48431373, -0.49215686, -0.49607843],\n",
       "        [-0.48431373, -0.5       ,  0.12352941,  0.5       ,  0.48431373,\n",
       "          0.5       ,  0.5       ,  0.5       ,  0.5       ,  0.5       ,\n",
       "          0.5       ,  0.5       ,  0.5       ,  0.5       ,  0.5       ,\n",
       "          0.5       ,  0.5       ,  0.5       ,  0.5       ,  0.5       ,\n",
       "          0.5       ,  0.5       ,  0.5       ,  0.48431373,  0.5       ,\n",
       "          0.12352941, -0.5       , -0.48431373],\n",
       "        [-0.5       ,  0.00980392,  0.5       ,  0.48431373,  0.5       ,\n",
       "          0.5       ,  0.5       ,  0.49607843,  0.49215686,  0.49215686,\n",
       "          0.49215686,  0.49215686,  0.49215686,  0.49215686,  0.49215686,\n",
       "          0.49215686,  0.49215686,  0.49215686,  0.49215686,  0.49215686,\n",
       "          0.49607843,  0.5       ,  0.5       ,  0.5       ,  0.48431373,\n",
       "          0.5       ,  0.00980392, -0.5       ],\n",
       "        [-0.06078431,  0.5       ,  0.48823529,  0.5       ,  0.5       ,\n",
       "          0.5       ,  0.5       ,  0.5       ,  0.5       ,  0.5       ,\n",
       "          0.5       ,  0.5       ,  0.5       ,  0.5       ,  0.5       ,\n",
       "          0.5       ,  0.5       ,  0.5       ,  0.5       ,  0.5       ,\n",
       "          0.5       ,  0.5       ,  0.5       ,  0.5       ,  0.5       ,\n",
       "          0.48823529,  0.5       , -0.06078431],\n",
       "        [ 0.5       ,  0.49607843,  0.49607843,  0.5       ,  0.5       ,\n",
       "          0.49607843,  0.5       , -0.14313726, -0.30784315, -0.29607844,\n",
       "         -0.30784315, -0.30784315, -0.30784315, -0.30784315, -0.30784315,\n",
       "         -0.30784315, -0.30784315, -0.30784315, -0.29607844, -0.30784315,\n",
       "         -0.14313726,  0.5       ,  0.49607843,  0.5       ,  0.5       ,\n",
       "          0.49607843,  0.49607843,  0.5       ],\n",
       "        [ 0.5       ,  0.5       ,  0.5       ,  0.5       ,  0.5       ,\n",
       "          0.49607843,  0.5       , -0.33529413, -0.5       , -0.5       ,\n",
       "         -0.5       , -0.5       , -0.5       , -0.5       , -0.5       ,\n",
       "         -0.5       , -0.5       , -0.5       , -0.5       , -0.5       ,\n",
       "         -0.33529413,  0.5       ,  0.49607843,  0.5       ,  0.5       ,\n",
       "          0.5       ,  0.5       ,  0.5       ],\n",
       "        [ 0.5       ,  0.5       ,  0.5       ,  0.5       ,  0.5       ,\n",
       "          0.49607843,  0.5       , -0.29215688, -0.49215686, -0.48039216,\n",
       "         -0.49215686, -0.49215686, -0.49215686, -0.49215686, -0.49215686,\n",
       "         -0.49215686, -0.49215686, -0.49215686, -0.48039216, -0.49215686,\n",
       "         -0.29215688,  0.5       ,  0.49607843,  0.5       ,  0.5       ,\n",
       "          0.5       ,  0.5       ,  0.5       ],\n",
       "        [ 0.5       ,  0.5       ,  0.5       ,  0.5       ,  0.5       ,\n",
       "          0.49607843,  0.5       , -0.30000001, -0.5       , -0.48823529,\n",
       "         -0.5       , -0.5       , -0.5       , -0.5       , -0.5       ,\n",
       "         -0.5       , -0.5       , -0.5       , -0.48823529, -0.5       ,\n",
       "         -0.30000001,  0.5       ,  0.49607843,  0.5       ,  0.5       ,\n",
       "          0.5       ,  0.5       ,  0.5       ],\n",
       "        [ 0.5       ,  0.5       ,  0.5       ,  0.5       ,  0.5       ,\n",
       "          0.49607843,  0.5       , -0.30000001, -0.5       , -0.48823529,\n",
       "         -0.5       , -0.5       , -0.5       , -0.5       , -0.5       ,\n",
       "         -0.5       , -0.5       , -0.5       , -0.48823529, -0.5       ,\n",
       "         -0.30000001,  0.5       ,  0.49607843,  0.5       ,  0.5       ,\n",
       "          0.5       ,  0.5       ,  0.5       ],\n",
       "        [ 0.5       ,  0.5       ,  0.5       ,  0.5       ,  0.5       ,\n",
       "          0.49607843,  0.5       , -0.29607844, -0.49607843, -0.48431373,\n",
       "         -0.49607843, -0.49607843, -0.49607843, -0.49607843, -0.49607843,\n",
       "         -0.49607843, -0.49607843, -0.49607843, -0.48431373, -0.49607843,\n",
       "         -0.29607844,  0.5       ,  0.49607843,  0.5       ,  0.5       ,\n",
       "          0.5       ,  0.5       ,  0.5       ],\n",
       "        [ 0.49607843,  0.5       ,  0.5       ,  0.5       ,  0.5       ,\n",
       "          0.49607843,  0.5       , -0.31960785, -0.5       , -0.5       ,\n",
       "         -0.5       , -0.5       , -0.5       , -0.5       , -0.5       ,\n",
       "         -0.5       , -0.5       , -0.5       , -0.5       , -0.5       ,\n",
       "         -0.31960785,  0.5       ,  0.49607843,  0.5       ,  0.5       ,\n",
       "          0.5       ,  0.5       ,  0.5       ],\n",
       "        [ 0.5       ,  0.49607843,  0.5       ,  0.5       ,  0.5       ,\n",
       "          0.49607843,  0.5       , -0.22156863, -0.40196079, -0.39019608,\n",
       "         -0.40196079, -0.40196079, -0.40196079, -0.40196079, -0.40196079,\n",
       "         -0.40196079, -0.40196079, -0.40196079, -0.39019608, -0.40588236,\n",
       "         -0.2254902 ,  0.5       ,  0.49607843,  0.5       ,  0.5       ,\n",
       "          0.5       ,  0.5       ,  0.5       ],\n",
       "        [ 0.0372549 ,  0.5       ,  0.48823529,  0.5       ,  0.5       ,\n",
       "          0.5       ,  0.5       ,  0.48039216,  0.47647059,  0.47647059,\n",
       "          0.47647059,  0.47647059,  0.47647059,  0.47647059,  0.47647059,\n",
       "          0.47647059,  0.47647059,  0.48039216,  0.47647059,  0.48431373,\n",
       "          0.5       ,  0.49607843,  0.5       ,  0.5       ,  0.5       ,\n",
       "          0.5       ,  0.5       ,  0.5       ],\n",
       "        [-0.5       ,  0.1       ,  0.5       ,  0.48431373,  0.5       ,\n",
       "          0.5       ,  0.5       ,  0.5       ,  0.5       ,  0.5       ,\n",
       "          0.5       ,  0.5       ,  0.5       ,  0.5       ,  0.5       ,\n",
       "          0.5       ,  0.5       ,  0.5       ,  0.5       ,  0.48039216,\n",
       "          0.04509804,  0.48431373,  0.5       ,  0.5       ,  0.5       ,\n",
       "          0.5       ,  0.5       ,  0.5       ],\n",
       "        [-0.48823529, -0.48823529,  0.21372549,  0.5       ,  0.48431373,\n",
       "          0.5       ,  0.5       ,  0.49607843,  0.49607843,  0.49607843,\n",
       "          0.49607843,  0.49607843,  0.49607843,  0.49607843,  0.49607843,\n",
       "          0.49607843,  0.49215686,  0.48823529,  0.5       , -0.16666667,\n",
       "         -0.37450981,  0.5       ,  0.49607843,  0.5       ,  0.5       ,\n",
       "          0.5       ,  0.5       ,  0.5       ],\n",
       "        [-0.49215686, -0.49607843, -0.44509804,  0.30392158,  0.5       ,\n",
       "          0.48823529,  0.5       ,  0.5       ,  0.5       ,  0.5       ,\n",
       "          0.5       ,  0.5       ,  0.5       ,  0.5       ,  0.5       ,\n",
       "          0.49607843,  0.48823529,  0.5       , -0.07254902, -0.5       ,\n",
       "         -0.28431374,  0.5       ,  0.49607843,  0.5       ,  0.5       ,\n",
       "          0.5       ,  0.5       ,  0.5       ],\n",
       "        [-0.5       , -0.49215686, -0.5       , -0.38235295,  0.37843138,\n",
       "          0.5       ,  0.49215686,  0.5       ,  0.5       ,  0.5       ,\n",
       "          0.5       ,  0.5       ,  0.5       ,  0.5       ,  0.49607843,\n",
       "          0.48431373,  0.5       , -0.04509804, -0.5       , -0.49215686,\n",
       "         -0.30000001,  0.5       ,  0.49607843,  0.5       ,  0.5       ,\n",
       "          0.5       ,  0.5       ,  0.5       ],\n",
       "        [-0.5       , -0.5       , -0.48823529, -0.5       , -0.31176472,\n",
       "          0.43725491,  0.49607843,  0.49215686,  0.5       ,  0.5       ,\n",
       "          0.5       ,  0.5       ,  0.5       ,  0.49607843,  0.48823529,\n",
       "          0.5       , -0.00196078, -0.5       , -0.47647059, -0.5       ,\n",
       "         -0.30000001,  0.5       ,  0.49607843,  0.5       ,  0.5       ,\n",
       "          0.5       ,  0.5       ,  0.5       ],\n",
       "        [-0.5       , -0.5       , -0.5       , -0.48431373, -0.5       ,\n",
       "         -0.22156863,  0.48431373,  0.5       ,  0.49607843,  0.5       ,\n",
       "          0.5       ,  0.5       ,  0.5       ,  0.49215686,  0.5       ,\n",
       "          0.0372549 , -0.5       , -0.48823529, -0.48823529, -0.5       ,\n",
       "         -0.30000001,  0.48823529,  0.49215686,  0.5       ,  0.5       ,\n",
       "          0.5       ,  0.5       ,  0.5       ],\n",
       "        [-0.5       , -0.5       , -0.5       , -0.5       , -0.48431373,\n",
       "         -0.5       , -0.11960784,  0.48431373,  0.5       ,  0.5       ,\n",
       "          0.5       ,  0.5       ,  0.5       ,  0.5       ,  0.07647059,\n",
       "         -0.5       , -0.48431373, -0.49607843, -0.48823529, -0.5       ,\n",
       "         -0.29607844,  0.5       ,  0.5       ,  0.48431373,  0.49607843,\n",
       "          0.5       ,  0.5       ,  0.5       ],\n",
       "        [-0.5       , -0.5       , -0.5       , -0.5       , -0.5       ,\n",
       "         -0.49215686, -0.5       , -0.37450981, -0.35490197, -0.35882354,\n",
       "         -0.35490197, -0.35490197, -0.35490197, -0.35490197, -0.5       ,\n",
       "         -0.49607843, -0.49607843, -0.5       , -0.49607843, -0.49607843,\n",
       "         -0.46470588, -0.00980392,  0.4254902 ,  0.5       ,  0.5       ,\n",
       "          0.48823529,  0.5       ,  0.5       ],\n",
       "        [-0.5       , -0.5       , -0.5       , -0.5       , -0.5       ,\n",
       "         -0.5       , -0.49607843, -0.5       , -0.5       , -0.5       ,\n",
       "         -0.5       , -0.5       , -0.5       , -0.5       , -0.5       ,\n",
       "         -0.5       , -0.5       , -0.5       , -0.5       , -0.5       ,\n",
       "         -0.5       , -0.5       , -0.37450981,  0.08039216,  0.46862745,\n",
       "          0.5       ,  0.5       ,  0.49215686],\n",
       "        [-0.5       , -0.5       , -0.5       , -0.5       , -0.5       ,\n",
       "         -0.5       , -0.5       , -0.49215686, -0.49215686, -0.49215686,\n",
       "         -0.49215686, -0.49215686, -0.49215686, -0.49215686, -0.5       ,\n",
       "         -0.5       , -0.5       , -0.5       , -0.5       , -0.5       ,\n",
       "         -0.5       , -0.48823529, -0.5       , -0.5       , -0.34313726,\n",
       "          0.12352941,  0.48039216,  0.5       ],\n",
       "        [-0.5       , -0.5       , -0.5       , -0.5       , -0.5       ,\n",
       "         -0.5       , -0.5       , -0.5       , -0.5       , -0.5       ,\n",
       "         -0.5       , -0.5       , -0.5       , -0.5       , -0.5       ,\n",
       "         -0.5       , -0.5       , -0.5       , -0.5       , -0.5       ,\n",
       "         -0.5       , -0.5       , -0.49215686, -0.48823529, -0.5       ,\n",
       "         -0.5       , -0.24509804,  0.24509804]], dtype=float32))"
      ]
     },
     "execution_count": 13,
     "metadata": {},
     "output_type": "execute_result"
    }
   ],
   "source": [
    "train_labels[0], train_dataset[0]"
   ]
  },
  {
   "cell_type": "markdown",
   "metadata": {
    "colab_type": "text",
    "id": "GPTCnjIcyuKN"
   },
   "source": [
    "Next, we'll randomize the data. It's important to have the labels well shuffled for the training and test distributions to match."
   ]
  },
  {
   "cell_type": "code",
   "execution_count": null,
   "metadata": {
    "cellView": "both",
    "colab": {
     "autoexec": {
      "startup": false,
      "wait_interval": 0
     }
    },
    "colab_type": "code",
    "collapsed": true,
    "id": "6WZ2l2tN2zOL"
   },
   "outputs": [],
   "source": [
    "np.random.seed(133)\n",
    "def randomize(dataset, labels):\n",
    "  permutation = np.random.permutation(labels.shape[0])\n",
    "  shuffled_dataset = dataset[permutation,:,:]\n",
    "  shuffled_labels = labels[permutation]\n",
    "  return shuffled_dataset, shuffled_labels\n",
    "train_dataset, train_labels = randomize(train_dataset, train_labels)\n",
    "test_dataset, test_labels = randomize(test_dataset, test_labels)"
   ]
  },
  {
   "cell_type": "markdown",
   "metadata": {
    "colab_type": "text",
    "id": "puDUTe6t6USl"
   },
   "source": [
    "---\n",
    "Problem 3\n",
    "---------\n",
    "Convince yourself that the data is still good after shuffling!\n",
    "\n",
    "---"
   ]
  },
  {
   "cell_type": "markdown",
   "metadata": {
    "colab_type": "text",
    "id": "cYznx5jUwzoO"
   },
   "source": [
    "---\n",
    "Problem 4\n",
    "---------\n",
    "Another check: we expect the data to be balanced across classes. Verify that.\n",
    "\n",
    "---"
   ]
  },
  {
   "cell_type": "markdown",
   "metadata": {
    "colab_type": "text",
    "id": "LA7M7K22ynCt"
   },
   "source": [
    "Prune the training data as needed. Depending on your computer setup, you might not be able to fit it all in memory, and you can tune train_size as needed.\n",
    "\n",
    "Also create a validation dataset for hyperparameter tuning."
   ]
  },
  {
   "cell_type": "code",
   "execution_count": null,
   "metadata": {
    "cellView": "both",
    "colab": {
     "autoexec": {
      "startup": false,
      "wait_interval": 0
     },
     "output_extras": [
      {
       "item_id": 1
      }
     ]
    },
    "colab_type": "code",
    "executionInfo": {
     "elapsed": 411281,
     "status": "ok",
     "timestamp": 1444485897869,
     "user": {
      "color": "#1FA15D",
      "displayName": "Vincent Vanhoucke",
      "isAnonymous": false,
      "isMe": true,
      "permissionId": "05076109866853157986",
      "photoUrl": "//lh6.googleusercontent.com/-cCJa7dTDcgQ/AAAAAAAAAAI/AAAAAAAACgw/r2EZ_8oYer4/s50-c-k-no/photo.jpg",
      "sessionId": "2a0a5e044bb03b66",
      "userId": "102167687554210253930"
     },
     "user_tz": 420
    },
    "id": "s3mWgZLpyuzq",
    "outputId": "8af66da6-902d-4719-bedc-7c9fb7ae7948"
   },
   "outputs": [
    {
     "name": "stdout",
     "output_type": "stream",
     "text": [
      "Training (200000, 28, 28) (200000,)\n",
      "Validation (10000, 28, 28) (10000,)\n"
     ]
    }
   ],
   "source": [
    "train_size = 200000\n",
    "valid_size = 10000\n",
    "\n",
    "valid_dataset = train_dataset[:valid_size,:,:]\n",
    "valid_labels = train_labels[:valid_size]\n",
    "train_dataset = train_dataset[valid_size:valid_size+train_size,:,:]\n",
    "train_labels = train_labels[valid_size:valid_size+train_size]\n",
    "print 'Training', train_dataset.shape, train_labels.shape\n",
    "print 'Validation', valid_dataset.shape, valid_labels.shape"
   ]
  },
  {
   "cell_type": "markdown",
   "metadata": {
    "colab_type": "text",
    "id": "tIQJaJuwg5Hw"
   },
   "source": [
    "Finally, let's save the data for later reuse:"
   ]
  },
  {
   "cell_type": "code",
   "execution_count": null,
   "metadata": {
    "cellView": "both",
    "colab": {
     "autoexec": {
      "startup": false,
      "wait_interval": 0
     }
    },
    "colab_type": "code",
    "collapsed": true,
    "id": "QiR_rETzem6C"
   },
   "outputs": [],
   "source": [
    "pickle_file = 'notMNIST.pickle'\n",
    "\n",
    "try:\n",
    "  f = open(pickle_file, 'wb')\n",
    "  save = {\n",
    "    'train_dataset': train_dataset,\n",
    "    'train_labels': train_labels,\n",
    "    'valid_dataset': valid_dataset,\n",
    "    'valid_labels': valid_labels,\n",
    "    'test_dataset': test_dataset,\n",
    "    'test_labels': test_labels,\n",
    "    }\n",
    "  pickle.dump(save, f, pickle.HIGHEST_PROTOCOL)\n",
    "  f.close()\n",
    "except Exception as e:\n",
    "  print 'Unable to save data to', pickle_file, ':', e\n",
    "  raise"
   ]
  },
  {
   "cell_type": "code",
   "execution_count": null,
   "metadata": {
    "cellView": "both",
    "colab": {
     "autoexec": {
      "startup": false,
      "wait_interval": 0
     },
     "output_extras": [
      {
       "item_id": 1
      }
     ]
    },
    "colab_type": "code",
    "executionInfo": {
     "elapsed": 413065,
     "status": "ok",
     "timestamp": 1444485899688,
     "user": {
      "color": "#1FA15D",
      "displayName": "Vincent Vanhoucke",
      "isAnonymous": false,
      "isMe": true,
      "permissionId": "05076109866853157986",
      "photoUrl": "//lh6.googleusercontent.com/-cCJa7dTDcgQ/AAAAAAAAAAI/AAAAAAAACgw/r2EZ_8oYer4/s50-c-k-no/photo.jpg",
      "sessionId": "2a0a5e044bb03b66",
      "userId": "102167687554210253930"
     },
     "user_tz": 420
    },
    "id": "hQbLjrW_iT39",
    "outputId": "b440efc6-5ee1-4cbc-d02d-93db44ebd956"
   },
   "outputs": [
    {
     "name": "stdout",
     "output_type": "stream",
     "text": [
      "Compressed pickle size: 718193801\n"
     ]
    }
   ],
   "source": [
    "statinfo = os.stat(pickle_file)\n",
    "print 'Compressed pickle size:', statinfo.st_size"
   ]
  },
  {
   "cell_type": "markdown",
   "metadata": {
    "colab_type": "text",
    "id": "gE_cRAQB33lk"
   },
   "source": [
    "---\n",
    "Problem 5\n",
    "---------\n",
    "\n",
    "By construction, this dataset might contain a lot of overlapping samples, including training data that's also contained in the validation and test set! Overlap between training and test can skew the results if you expect to use your model in an environment where there is never an overlap, but are actually ok if you expect to see training samples recur when you use it.\n",
    "Measure how much overlap there is between training, validation and test samples.\n",
    "Optional questions:\n",
    "- What about near duplicates between datasets? (images that are almost identical)\n",
    "- Create a sanitized validation and test set, and compare your accuracy on those in subsequent assignments.\n",
    "---"
   ]
  },
  {
   "cell_type": "markdown",
   "metadata": {
    "colab_type": "text",
    "id": "L8oww1s4JMQx"
   },
   "source": [
    "---\n",
    "Problem 6\n",
    "---------\n",
    "\n",
    "Let's get an idea of what an off-the-shelf classifier can give you on this data. It's always good to check that there is something to learn, and that it's a problem that is not so trivial that a canned solution solves it.\n",
    "\n",
    "Train a simple model on this data using 50, 100, 1000 and 5000 training samples. Hint: you can use the LogisticRegression model from sklearn.linear_model.\n",
    "\n",
    "Optional question: train an off-the-shelf model on all the data!\n",
    "\n",
    "---"
   ]
  }
 ],
 "metadata": {
  "colabVersion": "0.3.2",
  "colab_default_view": {},
  "colab_views": {},
  "kernelspec": {
   "display_name": "Python 3",
   "language": "python",
   "name": "python3"
  },
  "language_info": {
   "codemirror_mode": {
    "name": "ipython",
    "version": 3
   },
   "file_extension": ".py",
   "mimetype": "text/x-python",
   "name": "python",
   "nbconvert_exporter": "python",
   "pygments_lexer": "ipython3",
   "version": "3.6.3"
  }
 },
 "nbformat": 4,
 "nbformat_minor": 1
}
