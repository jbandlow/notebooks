{
 "cells": [
  {
   "cell_type": "markdown",
   "metadata": {
    "raw_mimetype": "text/markdown"
   },
   "source": [
    "This is a Markdown input cell that contains some $x^2$ latex:\n",
    "$$\n",
    "e^{i \\pi} + 1 = 0\n",
    "$$\n",
    "Including $- \\int_{-\\infty}^{0} \\frac{\\sqrt{2}}{4 \\sqrt{\\pi}} e^{- \\frac{1}{8} \\left(z - 1\\right)^{2}}\\, dz + \\int_{- \\infty}^{2.5} \\frac{\\sqrt{2}}{4 \\sqrt{\\pi}} e^{- \\frac{1}{8} \\left(z - 1\\right)^{2}}\\, dz$ lots of underscores\n",
    "$$- \\int_{-\\infty}^{0} \\frac{\\sqrt{2}}{4 \\sqrt{\\pi}} e^{- \\frac{1}{8} \\left(z - 1\\right)^{2}}\\, dz + \\int_{- \\infty}^{2.5} \\frac{\\sqrt{2}}{4 \\sqrt{\\pi}} e^{- \\frac{1}{8} \\left(z - 1\\right)^{2}}\\, dz\n",
    "$$"
   ]
  },
  {
   "cell_type": "markdown",
   "metadata": {},
   "source": [
    "Next we have code that outputs an ordinary number."
   ]
  },
  {
   "cell_type": "code",
   "execution_count": 5,
   "metadata": {},
   "outputs": [
    {
     "data": {
      "image/png": "[encoded data removed]",
      "text/latex": [
       "$$-0.10777763496135842$$"
      ],
      "text/plain": [
       "-0.10777763496135842"
      ]
     },
     "execution_count": 5,
     "metadata": {},
     "output_type": "execute_result"
    }
   ],
   "source": [
    "import numpy as np\n",
    "np.mean(np.random.randn(100))"
   ]
  },
  {
   "cell_type": "markdown",
   "metadata": {},
   "source": [
    "Finally we have code that outputs MathJax."
   ]
  },
  {
   "cell_type": "code",
   "execution_count": 3,
   "metadata": {},
   "outputs": [
    {
     "data": {
      "image/png": "[encoded data removed]",
      "text/latex": [
       "$$x^{2} + x + 1$$"
      ],
      "text/plain": [
       " 2        \n",
       "x  + x + 1"
      ]
     },
     "execution_count": 3,
     "metadata": {},
     "output_type": "execute_result"
    }
   ],
   "source": [
    "import sympy as sy\n",
    "sy.init_printing(use_unicode=True)\n",
    "x = sy.S('x')\n",
    "x**2 + x+ 1"
   ]
  },
  {
   "cell_type": "code",
   "execution_count": 9,
   "metadata": {},
   "outputs": [
    {
     "name": "stdout",
     "output_type": "stream",
     "text": [
      "1\n",
      "2\n",
      "how now?\n"
     ]
    },
    {
     "data": {
      "image/png": "[encoded data removed]",
      "text/latex": [
       "$$16$$"
      ],
      "text/plain": [
       "16"
      ]
     },
     "execution_count": 9,
     "metadata": {},
     "output_type": "execute_result"
    }
   ],
   "source": [
    "print(1)\n",
    "print(2)\n",
    "print('how now?')\n",
    "(x**2).subs({x:4})"
   ]
  },
  {
   "cell_type": "markdown",
   "metadata": {
    "collapsed": true
   },
   "source": [
    "Holla for a $1.30. But if I give you another\n",
    "$1.00, this should break. Unless, there is a blank line.\n",
    "\n",
    "So $1.00\n",
    "\n",
    "and $2.00 is fine.\n",
    "\n",
    "Also \\$1.00 and \\$ is ok. As is \\$1 and $."
   ]
  },
  {
   "cell_type": "markdown",
   "metadata": {},
   "source": [
    "Is $$ ever ok? It seems so. $1.00 might work too."
   ]
  },
  {
   "cell_type": "markdown",
   "metadata": {
    "collapsed": true
   },
   "source": [
    "Is $a \\_ f$ a thing?"
   ]
  },
  {
   "cell_type": "markdown",
   "metadata": {
    "collapsed": true
   },
   "source": [
    "If I have $x_1$ and $x_1$ and $x_1$, do I get in trouble?"
   ]
  },
  {
   "cell_type": "markdown",
   "metadata": {
    "collapsed": true
   },
   "source": [
    "This is (not) inline: \\( x_1^2 \\)\n",
    "\n",
    "This is (not) display: \\[ x_3^2 \\]"
   ]
  },
  {
   "cell_type": "markdown",
   "metadata": {
    "collapsed": true
   },
   "source": [
    "* This is Markdown that starts with a bullet\n",
    "* Does it work?"
   ]
  },
  {
   "cell_type": "markdown",
   "metadata": {},
   "source": [
    "$$\n",
    "\\begin{align*}\n",
    "a &= b\\\\\n",
    "c &= d\n",
    "\\end{align*}\n",
    "$$"
   ]
  },
  {
   "cell_type": "markdown",
   "metadata": {},
   "source": [
    "$a * b = c$ and $d * e = f$"
   ]
  },
  {
   "cell_type": "code",
   "execution_count": null,
   "metadata": {
    "collapsed": true
   },
   "outputs": [],
   "source": []
  }
 ],
 "metadata": {
  "celltoolbar": "Raw Cell Format",
  "hugo": {
   "thisIsFalse": false,
   "thisIsTrue": true,
   "title": "LaTeX Thoughts"
  },
  "kernelspec": {
   "display_name": "Python 3",
   "language": "python",
   "name": "python3"
  },
  "language_info": {
   "codemirror_mode": {
    "name": "ipython",
    "version": 3
   },
   "file_extension": ".py",
   "mimetype": "text/x-python",
   "name": "python",
   "nbconvert_exporter": "python",
   "pygments_lexer": "ipython3",
   "version": "3.6.3"
  }
 },
 "nbformat": 4,
 "nbformat_minor": 2
}
