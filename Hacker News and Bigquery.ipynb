{
 "cells": [
  {
   "cell_type": "code",
   "execution_count": 38,
   "metadata": {
    "collapsed": true
   },
   "outputs": [],
   "source": [
    "from pandas_gbq import read_gbq\n",
    "import pandas as pd\n",
    "%matplotlib inline\n",
    "import matplotlib.pyplot as plt\n",
    "import seaborn as sns\n",
    "sns.set(rc={'figure.figsize': (12, 8), 'xtick.labelsize': 14, 'ytick.labelsize': 14})\n",
    "sns.set_style('white')\n",
    "sns.set_palette(sns.color_palette('colorblind', 8))"
   ]
  },
  {
   "cell_type": "code",
   "execution_count": 2,
   "metadata": {
    "collapsed": true
   },
   "outputs": [],
   "source": [
    "projectid = 'jrb-gcp-personal'\n",
    "private_key = '/home/jbandlow/Downloads/jrb-gcp-personal-9e21aa7b9578.json'\n",
    "configuration = {\n",
    "   'query': {\n",
    "     'useLegacySql': False\n",
    "   }\n",
    "}"
   ]
  },
  {
   "cell_type": "code",
   "execution_count": 28,
   "metadata": {
    "collapsed": true
   },
   "outputs": [],
   "source": [
    "query = r'''\n",
    "select \n",
    "    timestamp,\n",
    "    title,\n",
    "    score,\n",
    "    url,\n",
    "    descendants,\n",
    "    id,\n",
    "    `by`\n",
    "from `bigquery-public-data.hacker_news.full` \n",
    "where \n",
    "  type = 'story' and \n",
    "  (\n",
    "     regexp_contains(lower(title), r'[ \\$]btc') or\n",
    "     regexp_contains(lower(title), r'bitcoin') or\n",
    "     regexp_contains(lower(title), r'bit coin')\n",
    "  ) and\n",
    "  descendants >= 5 and\n",
    "  score >= 10\n",
    "'''"
   ]
  },
  {
   "cell_type": "code",
   "execution_count": null,
   "metadata": {
    "collapsed": true
   },
   "outputs": [],
   "source": []
  },
  {
   "cell_type": "code",
   "execution_count": 29,
   "metadata": {},
   "outputs": [],
   "source": [
    "df = read_gbq(query, projectid, private_key=private_key, configuration=configuration)"
   ]
  },
  {
   "cell_type": "code",
   "execution_count": 30,
   "metadata": {},
   "outputs": [
    {
     "data": {
      "text/html": [
       "<div>\n",
       "<style>\n",
       "    .dataframe thead tr:only-child th {\n",
       "        text-align: right;\n",
       "    }\n",
       "\n",
       "    .dataframe thead th {\n",
       "        text-align: left;\n",
       "    }\n",
       "\n",
       "    .dataframe tbody tr th {\n",
       "        vertical-align: top;\n",
       "    }\n",
       "</style>\n",
       "<table border=\"1\" class=\"dataframe\">\n",
       "  <thead>\n",
       "    <tr style=\"text-align: right;\">\n",
       "      <th></th>\n",
       "      <th>timestamp</th>\n",
       "      <th>title</th>\n",
       "      <th>score</th>\n",
       "      <th>url</th>\n",
       "      <th>descendants</th>\n",
       "      <th>id</th>\n",
       "      <th>by</th>\n",
       "    </tr>\n",
       "  </thead>\n",
       "  <tbody>\n",
       "    <tr>\n",
       "      <th>0</th>\n",
       "      <td>2014-03-06 12:35:44</td>\n",
       "      <td>The Face Behind Bitcoin?</td>\n",
       "      <td>1165</td>\n",
       "      <td>http://mag.newsweek.com/2014/03/14/bitcoin-sat...</td>\n",
       "      <td>678</td>\n",
       "      <td>7353283</td>\n",
       "      <td>warrenmiller</td>\n",
       "    </tr>\n",
       "    <tr>\n",
       "      <th>1</th>\n",
       "      <td>2018-01-23 19:02:40</td>\n",
       "      <td>Ending Bitcoin Support</td>\n",
       "      <td>989</td>\n",
       "      <td>https://stripe.com/blog/ending-bitcoin-support</td>\n",
       "      <td>625</td>\n",
       "      <td>16216329</td>\n",
       "      <td>uptown</td>\n",
       "    </tr>\n",
       "    <tr>\n",
       "      <th>2</th>\n",
       "      <td>2013-04-01 14:17:19</td>\n",
       "      <td>Bitcoin exchange rate reached $100 USD per BTC</td>\n",
       "      <td>317</td>\n",
       "      <td>http://bitcoincharts.com/charts/mtgoxUSD</td>\n",
       "      <td>578</td>\n",
       "      <td>5473128</td>\n",
       "      <td>vitalique</td>\n",
       "    </tr>\n",
       "    <tr>\n",
       "      <th>3</th>\n",
       "      <td>2014-02-13 20:21:22</td>\n",
       "      <td>Silk Road 2 Hacked, All Bitcoins Stolen</td>\n",
       "      <td>449</td>\n",
       "      <td>http://www.deepdotweb.com/2014/02/13/silk-road...</td>\n",
       "      <td>531</td>\n",
       "      <td>7234010</td>\n",
       "      <td>nikcub</td>\n",
       "    </tr>\n",
       "    <tr>\n",
       "      <th>4</th>\n",
       "      <td>2013-12-28 19:45:22</td>\n",
       "      <td>Bitcoin and positive vs. normative economics</td>\n",
       "      <td>201</td>\n",
       "      <td>http://krugman.blogs.nytimes.com/2013/12/28/bi...</td>\n",
       "      <td>506</td>\n",
       "      <td>6976095</td>\n",
       "      <td>the_economist</td>\n",
       "    </tr>\n",
       "  </tbody>\n",
       "</table>\n",
       "</div>"
      ],
      "text/plain": [
       "            timestamp                                           title  score  \\\n",
       "0 2014-03-06 12:35:44                        The Face Behind Bitcoin?   1165   \n",
       "1 2018-01-23 19:02:40                          Ending Bitcoin Support    989   \n",
       "2 2013-04-01 14:17:19  Bitcoin exchange rate reached $100 USD per BTC    317   \n",
       "3 2014-02-13 20:21:22         Silk Road 2 Hacked, All Bitcoins Stolen    449   \n",
       "4 2013-12-28 19:45:22    Bitcoin and positive vs. normative economics    201   \n",
       "\n",
       "                                                 url  descendants        id  \\\n",
       "0  http://mag.newsweek.com/2014/03/14/bitcoin-sat...          678   7353283   \n",
       "1     https://stripe.com/blog/ending-bitcoin-support          625  16216329   \n",
       "2           http://bitcoincharts.com/charts/mtgoxUSD          578   5473128   \n",
       "3  http://www.deepdotweb.com/2014/02/13/silk-road...          531   7234010   \n",
       "4  http://krugman.blogs.nytimes.com/2013/12/28/bi...          506   6976095   \n",
       "\n",
       "              by  \n",
       "0   warrenmiller  \n",
       "1         uptown  \n",
       "2      vitalique  \n",
       "3         nikcub  \n",
       "4  the_economist  "
      ]
     },
     "execution_count": 30,
     "metadata": {},
     "output_type": "execute_result"
    }
   ],
   "source": [
    "df.head()"
   ]
  },
  {
   "cell_type": "code",
   "execution_count": 55,
   "metadata": {},
   "outputs": [
    {
     "data": {
      "image/png": "[encoded data removed]",
      "text/plain": [
       "<matplotlib.figure.Figure at 0x7fec1f379390>"
      ]
     },
     "metadata": {},
     "output_type": "display_data"
    }
   ],
   "source": [
    "df.timestamp.groupby(df.timestamp.dt.to_period('M')).count().plot();"
   ]
  },
  {
   "cell_type": "code",
   "execution_count": 48,
   "metadata": {},
   "outputs": [
    {
     "data": {
      "text/plain": [
       "<matplotlib.axes._subplots.AxesSubplot at 0x7fec1f1cb828>"
      ]
     },
     "execution_count": 48,
     "metadata": {},
     "output_type": "execute_result"
    },
    {
     "data": {
      "image/png": "[encoded data removed]",
      "text/plain": [
       "<matplotlib.figure.Figure at 0x7fec1f1cbef0>"
      ]
     },
     "metadata": {},
     "output_type": "display_data"
    }
   ],
   "source": [
    "df.timestamp.apply(lambda _: _.to_period('M')).value_counts().sort_index().plot();"
   ]
  },
  {
   "cell_type": "code",
   "execution_count": 43,
   "metadata": {},
   "outputs": [
    {
     "data": {
      "text/plain": [
       "PeriodIndex(['2010-07', '2010-11', '2010-12', '2011-02', '2011-03', '2011-04',\n",
       "             '2011-05', '2011-06', '2011-07', '2011-08', '2011-09', '2011-10',\n",
       "             '2011-11', '2011-12', '2012-01', '2012-02', '2012-03', '2012-04',\n",
       "             '2012-05', '2012-06', '2012-07', '2012-08', '2012-09', '2012-10',\n",
       "             '2012-11', '2012-12', '2013-01', '2013-02', '2013-03', '2013-04',\n",
       "             '2013-05', '2013-06', '2013-07', '2013-08', '2013-09', '2013-10',\n",
       "             '2013-11', '2013-12', '2014-01', '2014-02', '2014-03', '2014-04',\n",
       "             '2014-05', '2014-06', '2014-07', '2014-08', '2014-09', '2014-10',\n",
       "             '2014-11', '2014-12', '2015-01', '2015-02', '2015-03', '2015-04',\n",
       "             '2015-05', '2015-06', '2015-07', '2015-08', '2015-09', '2015-10',\n",
       "             '2015-11', '2015-12', '2016-01', '2016-02', '2016-03', '2016-04',\n",
       "             '2016-05', '2016-06', '2016-07', '2016-08', '2016-09', '2016-10',\n",
       "             '2016-11', '2016-12', '2017-01', '2017-02', '2017-03', '2017-04',\n",
       "             '2017-05', '2017-06', '2017-07', '2017-08', '2017-09', '2017-10',\n",
       "             '2017-11', '2017-12', '2018-01', '2018-02', '2018-03', '2018-04',\n",
       "             '2018-05'],\n",
       "            dtype='period[M]', freq='M')"
      ]
     },
     "execution_count": 43,
     "metadata": {},
     "output_type": "execute_result"
    }
   ],
   "source": [
    "tmp.index"
   ]
  },
  {
   "cell_type": "code",
   "execution_count": 44,
   "metadata": {},
   "outputs": [
    {
     "data": {
      "text/plain": [
       "array([  1,   3,   1,   3,   5,  20,  38,  46,  20,  10,   6,   9,   3,\n",
       "         1,   2,   1,   7,   4,   6,  10,   6,  10,  10,   7,   8,   8,\n",
       "        14,  26,  42, 106,  40,  27,  16,  30,  18,  40, 141, 121,  44,\n",
       "        70,  75,  27,  32,  25,  27,  18,  17,  24,  12,  21,  25,  13,\n",
       "        16,  18,  17,  14,  17,  11,  11,  11,  13,   9,  17,   7,   6,\n",
       "        12,  13,  10,   6,  15,   5,   4,   5,  11,  10,   9,  12,   8,\n",
       "        19,  23,  38,  48,  48,  25,  73, 133,  58,  34,  24,  18,  12])"
      ]
     },
     "execution_count": 44,
     "metadata": {},
     "output_type": "execute_result"
    }
   ],
   "source": [
    "tmp.values"
   ]
  },
  {
   "cell_type": "code",
   "execution_count": 19,
   "metadata": {},
   "outputs": [
    {
     "data": {
      "text/plain": [
       "Period('2014-03', 'M')"
      ]
     },
     "execution_count": 19,
     "metadata": {},
     "output_type": "execute_result"
    }
   ],
   "source": [
    "df.loc[0, 'time_ts'].to_period('M')"
   ]
  },
  {
   "cell_type": "code",
   "execution_count": 7,
   "metadata": {},
   "outputs": [
    {
     "data": {
      "text/plain": [
       "1407"
      ]
     },
     "execution_count": 7,
     "metadata": {},
     "output_type": "execute_result"
    }
   ],
   "source": [
    "len(df)"
   ]
  },
  {
   "cell_type": "code",
   "execution_count": 11,
   "metadata": {},
   "outputs": [
    {
     "data": {
      "text/plain": [
       "True    12\n",
       "Name: dead, dtype: int64"
      ]
     },
     "execution_count": 11,
     "metadata": {},
     "output_type": "execute_result"
    }
   ],
   "source": [
    "df.dead.value_counts()"
   ]
  },
  {
   "cell_type": "code",
   "execution_count": 14,
   "metadata": {},
   "outputs": [
    {
     "data": {
      "text/html": [
       "<div>\n",
       "<style>\n",
       "    .dataframe thead tr:only-child th {\n",
       "        text-align: right;\n",
       "    }\n",
       "\n",
       "    .dataframe thead th {\n",
       "        text-align: left;\n",
       "    }\n",
       "\n",
       "    .dataframe tbody tr th {\n",
       "        vertical-align: top;\n",
       "    }\n",
       "</style>\n",
       "<table border=\"1\" class=\"dataframe\">\n",
       "  <thead>\n",
       "    <tr style=\"text-align: right;\">\n",
       "      <th></th>\n",
       "      <th>id</th>\n",
       "      <th>by</th>\n",
       "      <th>score</th>\n",
       "      <th>time</th>\n",
       "      <th>time_ts</th>\n",
       "      <th>title</th>\n",
       "      <th>url</th>\n",
       "      <th>text</th>\n",
       "      <th>deleted</th>\n",
       "      <th>dead</th>\n",
       "      <th>descendants</th>\n",
       "      <th>author</th>\n",
       "    </tr>\n",
       "  </thead>\n",
       "  <tbody>\n",
       "    <tr>\n",
       "      <th>138</th>\n",
       "      <td>2607645</td>\n",
       "      <td>forgotmyuser</td>\n",
       "      <td>109</td>\n",
       "      <td>1306941710</td>\n",
       "      <td>2011-06-01 15:21:50</td>\n",
       "      <td>How to Lose $81,000 in Bitcoins</td>\n",
       "      <td>http://bitcoined.tumblr.com/</td>\n",
       "      <td></td>\n",
       "      <td>None</td>\n",
       "      <td>True</td>\n",
       "      <td>113</td>\n",
       "      <td>forgotmyuser</td>\n",
       "    </tr>\n",
       "    <tr>\n",
       "      <th>588</th>\n",
       "      <td>2670772</td>\n",
       "      <td>nopinsight</td>\n",
       "      <td>53</td>\n",
       "      <td>1308488087</td>\n",
       "      <td>2011-06-19 12:54:47</td>\n",
       "      <td>Bitcoin has got geeks excited. What about econ...</td>\n",
       "      <td>http://www.economist.com/node/18836780?story_i...</td>\n",
       "      <td></td>\n",
       "      <td>None</td>\n",
       "      <td>True</td>\n",
       "      <td>44</td>\n",
       "      <td>nopinsight</td>\n",
       "    </tr>\n",
       "    <tr>\n",
       "      <th>714</th>\n",
       "      <td>2551391</td>\n",
       "      <td>jaysonelliot</td>\n",
       "      <td>53</td>\n",
       "      <td>1305512298</td>\n",
       "      <td>2011-05-16 02:18:18</td>\n",
       "      <td>Bitbills are Bitcoins you can hold in your hand</td>\n",
       "      <td>http://bitbills.com/</td>\n",
       "      <td></td>\n",
       "      <td>None</td>\n",
       "      <td>True</td>\n",
       "      <td>33</td>\n",
       "      <td>jaysonelliot</td>\n",
       "    </tr>\n",
       "    <tr>\n",
       "      <th>734</th>\n",
       "      <td>2609365</td>\n",
       "      <td>lotusleaf1987</td>\n",
       "      <td>37</td>\n",
       "      <td>1306962682</td>\n",
       "      <td>2011-06-01 21:11:22</td>\n",
       "      <td>Libertarian Dream? A Site Where You Buy Drugs ...</td>\n",
       "      <td>http://www.theatlantic.com/technology/archive/...</td>\n",
       "      <td></td>\n",
       "      <td>None</td>\n",
       "      <td>True</td>\n",
       "      <td>32</td>\n",
       "      <td>lotusleaf1987</td>\n",
       "    </tr>\n",
       "    <tr>\n",
       "      <th>766</th>\n",
       "      <td>2527746</td>\n",
       "      <td>neild</td>\n",
       "      <td>55</td>\n",
       "      <td>1304921716</td>\n",
       "      <td>2011-05-09 06:15:16</td>\n",
       "      <td>Why Bitcoin will fail</td>\n",
       "      <td>http://apenwarr.ca/log/?m=201105#08</td>\n",
       "      <td></td>\n",
       "      <td>None</td>\n",
       "      <td>True</td>\n",
       "      <td>30</td>\n",
       "      <td>neild</td>\n",
       "    </tr>\n",
       "    <tr>\n",
       "      <th>783</th>\n",
       "      <td>2675187</td>\n",
       "      <td>taylorbuley</td>\n",
       "      <td>37</td>\n",
       "      <td>1308591927</td>\n",
       "      <td>2011-06-20 17:45:27</td>\n",
       "      <td>So, That’s the End of Bitcoin Then?</td>\n",
       "      <td>http://blogs.forbes.com/timworstall/2011/06/20...</td>\n",
       "      <td>None</td>\n",
       "      <td>None</td>\n",
       "      <td>True</td>\n",
       "      <td>29</td>\n",
       "      <td>taylorbuley</td>\n",
       "    </tr>\n",
       "    <tr>\n",
       "      <th>955</th>\n",
       "      <td>2771936</td>\n",
       "      <td>b14ck</td>\n",
       "      <td>42</td>\n",
       "      <td>1310854043</td>\n",
       "      <td>2011-07-16 22:07:23</td>\n",
       "      <td>New Startup BitcoinDeals is Launching a Bitcoi...</td>\n",
       "      <td>http://www.bitcoindeals.com/</td>\n",
       "      <td></td>\n",
       "      <td>None</td>\n",
       "      <td>True</td>\n",
       "      <td>17</td>\n",
       "      <td>b14ck</td>\n",
       "    </tr>\n",
       "    <tr>\n",
       "      <th>1082</th>\n",
       "      <td>2802257</td>\n",
       "      <td>dublinclontarf</td>\n",
       "      <td>26</td>\n",
       "      <td>1311594871</td>\n",
       "      <td>2011-07-25 11:54:31</td>\n",
       "      <td>Headed through customs? Avoid any mention of b...</td>\n",
       "      <td>http://blog.glbse.com/no-electronic-devices</td>\n",
       "      <td></td>\n",
       "      <td>None</td>\n",
       "      <td>True</td>\n",
       "      <td>12</td>\n",
       "      <td>dublinclontarf</td>\n",
       "    </tr>\n",
       "    <tr>\n",
       "      <th>1232</th>\n",
       "      <td>2575380</td>\n",
       "      <td>mike_esspe</td>\n",
       "      <td>17</td>\n",
       "      <td>1306141369</td>\n",
       "      <td>2011-05-23 09:02:49</td>\n",
       "      <td>Bitcoin miner was raided by police due to high...</td>\n",
       "      <td>http://esspe.net/bitcoins-and-weed</td>\n",
       "      <td></td>\n",
       "      <td>None</td>\n",
       "      <td>True</td>\n",
       "      <td>8</td>\n",
       "      <td>mike_esspe</td>\n",
       "    </tr>\n",
       "    <tr>\n",
       "      <th>1233</th>\n",
       "      <td>5511167</td>\n",
       "      <td>oleganza</td>\n",
       "      <td>13</td>\n",
       "      <td>1365422525</td>\n",
       "      <td>2013-04-08 12:02:05</td>\n",
       "      <td>UK shows strong support for petition to ban Bi...</td>\n",
       "      <td>http://epetitions.direct.gov.uk/petitions/34781</td>\n",
       "      <td></td>\n",
       "      <td>None</td>\n",
       "      <td>True</td>\n",
       "      <td>8</td>\n",
       "      <td>oleganza</td>\n",
       "    </tr>\n",
       "    <tr>\n",
       "      <th>1307</th>\n",
       "      <td>2566660</td>\n",
       "      <td>indutny</td>\n",
       "      <td>22</td>\n",
       "      <td>1305873153</td>\n",
       "      <td>2011-05-20 06:32:33</td>\n",
       "      <td>Developer loses life savings in bitcoin over T...</td>\n",
       "      <td>http://www.helpingmarak.net/</td>\n",
       "      <td></td>\n",
       "      <td>None</td>\n",
       "      <td>True</td>\n",
       "      <td>6</td>\n",
       "      <td>indutny</td>\n",
       "    </tr>\n",
       "    <tr>\n",
       "      <th>1368</th>\n",
       "      <td>2320621</td>\n",
       "      <td>spenvo</td>\n",
       "      <td>13</td>\n",
       "      <td>1300060293</td>\n",
       "      <td>2011-03-13 23:51:33</td>\n",
       "      <td>Anonymously operating a Bitcoin gambling site,...</td>\n",
       "      <td>http://www.bitcoinbulletin.com/2011/03/13/bowl...</td>\n",
       "      <td></td>\n",
       "      <td>None</td>\n",
       "      <td>True</td>\n",
       "      <td>5</td>\n",
       "      <td>spenvo</td>\n",
       "    </tr>\n",
       "  </tbody>\n",
       "</table>\n",
       "</div>"
      ],
      "text/plain": [
       "           id              by  score        time             time_ts  \\\n",
       "138   2607645    forgotmyuser    109  1306941710 2011-06-01 15:21:50   \n",
       "588   2670772      nopinsight     53  1308488087 2011-06-19 12:54:47   \n",
       "714   2551391    jaysonelliot     53  1305512298 2011-05-16 02:18:18   \n",
       "734   2609365   lotusleaf1987     37  1306962682 2011-06-01 21:11:22   \n",
       "766   2527746           neild     55  1304921716 2011-05-09 06:15:16   \n",
       "783   2675187     taylorbuley     37  1308591927 2011-06-20 17:45:27   \n",
       "955   2771936           b14ck     42  1310854043 2011-07-16 22:07:23   \n",
       "1082  2802257  dublinclontarf     26  1311594871 2011-07-25 11:54:31   \n",
       "1232  2575380      mike_esspe     17  1306141369 2011-05-23 09:02:49   \n",
       "1233  5511167        oleganza     13  1365422525 2013-04-08 12:02:05   \n",
       "1307  2566660         indutny     22  1305873153 2011-05-20 06:32:33   \n",
       "1368  2320621          spenvo     13  1300060293 2011-03-13 23:51:33   \n",
       "\n",
       "                                                  title  \\\n",
       "138                     How to Lose $81,000 in Bitcoins   \n",
       "588   Bitcoin has got geeks excited. What about econ...   \n",
       "714     Bitbills are Bitcoins you can hold in your hand   \n",
       "734   Libertarian Dream? A Site Where You Buy Drugs ...   \n",
       "766                               Why Bitcoin will fail   \n",
       "783                 So, That’s the End of Bitcoin Then?   \n",
       "955   New Startup BitcoinDeals is Launching a Bitcoi...   \n",
       "1082  Headed through customs? Avoid any mention of b...   \n",
       "1232  Bitcoin miner was raided by police due to high...   \n",
       "1233  UK shows strong support for petition to ban Bi...   \n",
       "1307  Developer loses life savings in bitcoin over T...   \n",
       "1368  Anonymously operating a Bitcoin gambling site,...   \n",
       "\n",
       "                                                    url  text deleted  dead  \\\n",
       "138                        http://bitcoined.tumblr.com/          None  True   \n",
       "588   http://www.economist.com/node/18836780?story_i...          None  True   \n",
       "714                                http://bitbills.com/          None  True   \n",
       "734   http://www.theatlantic.com/technology/archive/...          None  True   \n",
       "766                 http://apenwarr.ca/log/?m=201105#08          None  True   \n",
       "783   http://blogs.forbes.com/timworstall/2011/06/20...  None    None  True   \n",
       "955                        http://www.bitcoindeals.com/          None  True   \n",
       "1082        http://blog.glbse.com/no-electronic-devices          None  True   \n",
       "1232                 http://esspe.net/bitcoins-and-weed          None  True   \n",
       "1233    http://epetitions.direct.gov.uk/petitions/34781          None  True   \n",
       "1307                       http://www.helpingmarak.net/          None  True   \n",
       "1368  http://www.bitcoinbulletin.com/2011/03/13/bowl...          None  True   \n",
       "\n",
       "      descendants          author  \n",
       "138           113    forgotmyuser  \n",
       "588            44      nopinsight  \n",
       "714            33    jaysonelliot  \n",
       "734            32   lotusleaf1987  \n",
       "766            30           neild  \n",
       "783            29     taylorbuley  \n",
       "955            17           b14ck  \n",
       "1082           12  dublinclontarf  \n",
       "1232            8      mike_esspe  \n",
       "1233            8        oleganza  \n",
       "1307            6         indutny  \n",
       "1368            5          spenvo  "
      ]
     },
     "execution_count": 14,
     "metadata": {},
     "output_type": "execute_result"
    }
   ],
   "source": [
    "df[df.dead == True]"
   ]
  },
  {
   "cell_type": "code",
   "execution_count": null,
   "metadata": {
    "collapsed": true
   },
   "outputs": [],
   "source": []
  }
 ],
 "metadata": {
  "kernelspec": {
   "display_name": "Python 3",
   "language": "python",
   "name": "python3"
  },
  "language_info": {
   "codemirror_mode": {
    "name": "ipython",
    "version": 3
   },
   "file_extension": ".py",
   "mimetype": "text/x-python",
   "name": "python",
   "nbconvert_exporter": "python",
   "pygments_lexer": "ipython3",
   "version": "3.6.3"
  }
 },
 "nbformat": 4,
 "nbformat_minor": 2
}
